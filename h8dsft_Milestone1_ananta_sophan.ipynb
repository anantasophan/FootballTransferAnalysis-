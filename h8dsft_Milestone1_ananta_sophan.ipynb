{
 "cells": [
  {
   "cell_type": "markdown",
   "metadata": {},
   "source": [
    "# MILESTONE 1\n",
    "### Ananta Faadillah Sophan\n",
    "### Batch--002-hck"
   ]
  },
  {
   "cell_type": "markdown",
   "metadata": {},
   "source": [
    "# PERKENALAN\n",
    "## ```Latar Belakang```\n",
    "Jual-beli pemain bola adalah bagian sentral di dunia persepakbolaan. Tiap musim panas atau musim dingin, triliunan rupiah bertukar tangan antara klub-klub besar di Eropa untuk pembelian pemain-pemain handal. Besarnya harga yang diperlukan untuk membeli pemain dan juga drama yang terkait kerap menjadi sebuah isu yang diperbincangkan di dunia sepakbola. Jual beli pemain hanya terjadi dua kali setahun di siklus yang disebut sebagai transfer window. FIFA memperbolehkan sebuah liga membuka bursa transfer sebelum musim dimulai dan saat libur musim dingin. Setiap negara mempunyai jendela jual-beli yang berbeda. Namun, tanggal yang ditentukan biasanya berdekatan untuk memungkinkan transfer pemain lintas negara. "
   ]
  },
  {
   "cell_type": "markdown",
   "metadata": {},
   "source": [
    "## ```Link Tableu```\n",
    "https://public.tableau.com/views/FootballTransferAnalysis_16668794416520/Dashboard1?:language=en-US&publish=yes&:display_count=n&:origin=viz_share_link"
   ]
  },
  {
   "cell_type": "markdown",
   "metadata": {},
   "source": [
    "# IDENTIFIKASI MASALAH\n",
    "## ```Problem Statement```"
   ]
  },
  {
   "cell_type": "markdown",
   "metadata": {},
   "source": [
    "##### Analisa Transfer Pemain Sepakbola berdasarkan liga dari tim yang memenangkan kompetisi eropa (Champions League) dari tahun 2000 sampai 2018 "
   ]
  },
  {
   "cell_type": "markdown",
   "metadata": {},
   "source": [
    "![grgrt](Picture2.jpg \"tittle\")\n",
    "##### Berdasarkan Daftar Pemenang Champions League dari tahun 2001 Sampai 2019, Berikut adalah Pemenang yang dikelompokkan berdasarkan Liga\n",
    "```\n",
    "- LaLiga(Spain) = 9\n",
    "- Premier League(England) =  4\n",
    "- Serie A(Italy) = 3\n",
    "- Bundesliga(Germany) = 2\n",
    "- The Primeira Liga(Portugal) = 1\n",
    "```\n",
    "Berdasarkan daftar tersebut, saya akan menganalisa aktivitas transfer 3 liga yang teratas yang tim nya paling banyak memenangkan Champions League, yaitu La Liga(Spain), Premier League(England), Serie A(Italy)\n",
    "\n",
    "## ```Problem Explanation```\n",
    "1. Liga mana yang Mendapatkan Keuntungan/Kerugian terbesar selama 2000 sampai 2018?\n",
    "2. Berapa rata-rata Transfer Fee pemain untuk setiap season?\n",
    "3. Siapa pemain termahal yang pernah dibeli oleh klub dari 3 liga teratas selama 2000 sampai 2018?\n",
    "4. Team apa saja yang paling banyak melakukan pembelian pemain?\n",
    "5. Berapa rata-rata dari total pembelian dan umur pemain pada bursa transfer 2000-2018?\n",
    "6. Apakah perbedaan rata-rata pengeluaran antara 3 klub teratas pada masing-masing liga signifikan?"
   ]
  },
  {
   "cell_type": "markdown",
   "metadata": {},
   "source": [
    "# DATA LOADING\n",
    "Import Library yang dibutuhkan"
   ]
  },
  {
   "cell_type": "code",
   "execution_count": 235,
   "metadata": {},
   "outputs": [],
   "source": [
    "import pandas as pd\n",
    "import numpy as np\n",
    "import scipy as sp\n",
    "import matplotlib.pyplot as plt\n",
    "import seaborn as sns\n",
    "import scipy.stats as stats"
   ]
  },
  {
   "cell_type": "markdown",
   "metadata": {},
   "source": [
    "Import Dataset (.csv)"
   ]
  },
  {
   "cell_type": "code",
   "execution_count": 236,
   "metadata": {},
   "outputs": [
    {
     "data": {
      "text/html": [
       "<div>\n",
       "<style scoped>\n",
       "    .dataframe tbody tr th:only-of-type {\n",
       "        vertical-align: middle;\n",
       "    }\n",
       "\n",
       "    .dataframe tbody tr th {\n",
       "        vertical-align: top;\n",
       "    }\n",
       "\n",
       "    .dataframe thead th {\n",
       "        text-align: right;\n",
       "    }\n",
       "</style>\n",
       "<table border=\"1\" class=\"dataframe\">\n",
       "  <thead>\n",
       "    <tr style=\"text-align: right;\">\n",
       "      <th></th>\n",
       "      <th>Name</th>\n",
       "      <th>Position</th>\n",
       "      <th>Age</th>\n",
       "      <th>Team_from</th>\n",
       "      <th>League_from</th>\n",
       "      <th>Team_to</th>\n",
       "      <th>League_to</th>\n",
       "      <th>Season</th>\n",
       "      <th>Market_value</th>\n",
       "      <th>Transfer_fee</th>\n",
       "    </tr>\n",
       "  </thead>\n",
       "  <tbody>\n",
       "    <tr>\n",
       "      <th>0</th>\n",
       "      <td>Luís Figo</td>\n",
       "      <td>Right Winger</td>\n",
       "      <td>27</td>\n",
       "      <td>FC Barcelona</td>\n",
       "      <td>LaLiga</td>\n",
       "      <td>Real Madrid</td>\n",
       "      <td>LaLiga</td>\n",
       "      <td>2000-2001</td>\n",
       "      <td>NaN</td>\n",
       "      <td>60000000</td>\n",
       "    </tr>\n",
       "    <tr>\n",
       "      <th>1</th>\n",
       "      <td>Hernán Crespo</td>\n",
       "      <td>Centre-Forward</td>\n",
       "      <td>25</td>\n",
       "      <td>Parma</td>\n",
       "      <td>Serie A</td>\n",
       "      <td>Lazio</td>\n",
       "      <td>Serie A</td>\n",
       "      <td>2000-2001</td>\n",
       "      <td>NaN</td>\n",
       "      <td>56810000</td>\n",
       "    </tr>\n",
       "    <tr>\n",
       "      <th>2</th>\n",
       "      <td>Marc Overmars</td>\n",
       "      <td>Left Winger</td>\n",
       "      <td>27</td>\n",
       "      <td>Arsenal</td>\n",
       "      <td>Premier League</td>\n",
       "      <td>FC Barcelona</td>\n",
       "      <td>LaLiga</td>\n",
       "      <td>2000-2001</td>\n",
       "      <td>NaN</td>\n",
       "      <td>40000000</td>\n",
       "    </tr>\n",
       "    <tr>\n",
       "      <th>3</th>\n",
       "      <td>Gabriel Batistuta</td>\n",
       "      <td>Centre-Forward</td>\n",
       "      <td>31</td>\n",
       "      <td>Fiorentina</td>\n",
       "      <td>Serie A</td>\n",
       "      <td>AS Roma</td>\n",
       "      <td>Serie A</td>\n",
       "      <td>2000-2001</td>\n",
       "      <td>NaN</td>\n",
       "      <td>36150000</td>\n",
       "    </tr>\n",
       "    <tr>\n",
       "      <th>4</th>\n",
       "      <td>Nicolas Anelka</td>\n",
       "      <td>Centre-Forward</td>\n",
       "      <td>21</td>\n",
       "      <td>Real Madrid</td>\n",
       "      <td>LaLiga</td>\n",
       "      <td>Paris SG</td>\n",
       "      <td>Ligue 1</td>\n",
       "      <td>2000-2001</td>\n",
       "      <td>NaN</td>\n",
       "      <td>34500000</td>\n",
       "    </tr>\n",
       "    <tr>\n",
       "      <th>...</th>\n",
       "      <td>...</td>\n",
       "      <td>...</td>\n",
       "      <td>...</td>\n",
       "      <td>...</td>\n",
       "      <td>...</td>\n",
       "      <td>...</td>\n",
       "      <td>...</td>\n",
       "      <td>...</td>\n",
       "      <td>...</td>\n",
       "      <td>...</td>\n",
       "    </tr>\n",
       "    <tr>\n",
       "      <th>4695</th>\n",
       "      <td>Jasmin Kurtic</td>\n",
       "      <td>Attacking Midfield</td>\n",
       "      <td>29</td>\n",
       "      <td>Atalanta</td>\n",
       "      <td>Serie A</td>\n",
       "      <td>SPAL</td>\n",
       "      <td>Serie A</td>\n",
       "      <td>2018-2019</td>\n",
       "      <td>5000000.0</td>\n",
       "      <td>4800000</td>\n",
       "    </tr>\n",
       "    <tr>\n",
       "      <th>4696</th>\n",
       "      <td>Tchê Tchê</td>\n",
       "      <td>Central Midfield</td>\n",
       "      <td>25</td>\n",
       "      <td>Palmeiras</td>\n",
       "      <td>Série A</td>\n",
       "      <td>Dynamo Kyiv</td>\n",
       "      <td>Premier Liga</td>\n",
       "      <td>2018-2019</td>\n",
       "      <td>3000000.0</td>\n",
       "      <td>4800000</td>\n",
       "    </tr>\n",
       "    <tr>\n",
       "      <th>4697</th>\n",
       "      <td>Silvan Widmer</td>\n",
       "      <td>Right-Back</td>\n",
       "      <td>25</td>\n",
       "      <td>Udinese Calcio</td>\n",
       "      <td>Serie A</td>\n",
       "      <td>FC Basel</td>\n",
       "      <td>Super League</td>\n",
       "      <td>2018-2019</td>\n",
       "      <td>8500000.0</td>\n",
       "      <td>4500000</td>\n",
       "    </tr>\n",
       "    <tr>\n",
       "      <th>4698</th>\n",
       "      <td>Yuya Osako</td>\n",
       "      <td>Second Striker</td>\n",
       "      <td>28</td>\n",
       "      <td>1. FC Köln</td>\n",
       "      <td>2.Bundesliga</td>\n",
       "      <td>Werder Bremen</td>\n",
       "      <td>1.Bundesliga</td>\n",
       "      <td>2018-2019</td>\n",
       "      <td>4500000.0</td>\n",
       "      <td>4500000</td>\n",
       "    </tr>\n",
       "    <tr>\n",
       "      <th>4699</th>\n",
       "      <td>Kyle Bartley</td>\n",
       "      <td>Centre-Back</td>\n",
       "      <td>27</td>\n",
       "      <td>Swansea</td>\n",
       "      <td>Championship</td>\n",
       "      <td>West Brom</td>\n",
       "      <td>Championship</td>\n",
       "      <td>2018-2019</td>\n",
       "      <td>3500000.0</td>\n",
       "      <td>4500000</td>\n",
       "    </tr>\n",
       "  </tbody>\n",
       "</table>\n",
       "<p>4700 rows × 10 columns</p>\n",
       "</div>"
      ],
      "text/plain": [
       "                   Name            Position  Age       Team_from  \\\n",
       "0             Luís Figo        Right Winger   27    FC Barcelona   \n",
       "1         Hernán Crespo      Centre-Forward   25           Parma   \n",
       "2         Marc Overmars         Left Winger   27         Arsenal   \n",
       "3     Gabriel Batistuta      Centre-Forward   31      Fiorentina   \n",
       "4        Nicolas Anelka      Centre-Forward   21     Real Madrid   \n",
       "...                 ...                 ...  ...             ...   \n",
       "4695      Jasmin Kurtic  Attacking Midfield   29        Atalanta   \n",
       "4696          Tchê Tchê    Central Midfield   25       Palmeiras   \n",
       "4697      Silvan Widmer          Right-Back   25  Udinese Calcio   \n",
       "4698         Yuya Osako      Second Striker   28      1. FC Köln   \n",
       "4699       Kyle Bartley         Centre-Back   27         Swansea   \n",
       "\n",
       "         League_from        Team_to     League_to     Season  Market_value  \\\n",
       "0             LaLiga    Real Madrid        LaLiga  2000-2001           NaN   \n",
       "1            Serie A          Lazio       Serie A  2000-2001           NaN   \n",
       "2     Premier League   FC Barcelona        LaLiga  2000-2001           NaN   \n",
       "3            Serie A        AS Roma       Serie A  2000-2001           NaN   \n",
       "4             LaLiga       Paris SG       Ligue 1  2000-2001           NaN   \n",
       "...              ...            ...           ...        ...           ...   \n",
       "4695         Serie A           SPAL       Serie A  2018-2019     5000000.0   \n",
       "4696         Série A    Dynamo Kyiv  Premier Liga  2018-2019     3000000.0   \n",
       "4697         Serie A       FC Basel  Super League  2018-2019     8500000.0   \n",
       "4698    2.Bundesliga  Werder Bremen  1.Bundesliga  2018-2019     4500000.0   \n",
       "4699    Championship      West Brom  Championship  2018-2019     3500000.0   \n",
       "\n",
       "      Transfer_fee  \n",
       "0         60000000  \n",
       "1         56810000  \n",
       "2         40000000  \n",
       "3         36150000  \n",
       "4         34500000  \n",
       "...            ...  \n",
       "4695       4800000  \n",
       "4696       4800000  \n",
       "4697       4500000  \n",
       "4698       4500000  \n",
       "4699       4500000  \n",
       "\n",
       "[4700 rows x 10 columns]"
      ]
     },
     "execution_count": 236,
     "metadata": {},
     "output_type": "execute_result"
    }
   ],
   "source": [
    "tf = pd.read_csv('football.csv')\n",
    "tf"
   ]
  },
  {
   "cell_type": "markdown",
   "metadata": {},
   "source": [
    "Data yang telah diimport berisi transfer dari berbagai liga di Eropa, saya hanya ingin mengambil data pembelian pemain dari liga Spanyol, Inggris, dan Italy\n",
    "\n",
    "  "
   ]
  },
  {
   "cell_type": "code",
   "execution_count": 237,
   "metadata": {},
   "outputs": [
    {
     "data": {
      "text/html": [
       "<div>\n",
       "<style scoped>\n",
       "    .dataframe tbody tr th:only-of-type {\n",
       "        vertical-align: middle;\n",
       "    }\n",
       "\n",
       "    .dataframe tbody tr th {\n",
       "        vertical-align: top;\n",
       "    }\n",
       "\n",
       "    .dataframe thead th {\n",
       "        text-align: right;\n",
       "    }\n",
       "</style>\n",
       "<table border=\"1\" class=\"dataframe\">\n",
       "  <thead>\n",
       "    <tr style=\"text-align: right;\">\n",
       "      <th></th>\n",
       "      <th>Name</th>\n",
       "      <th>Position</th>\n",
       "      <th>Age</th>\n",
       "      <th>Team_from</th>\n",
       "      <th>League_from</th>\n",
       "      <th>Team_to</th>\n",
       "      <th>League_to</th>\n",
       "      <th>Season</th>\n",
       "      <th>Market_value</th>\n",
       "      <th>Transfer_fee</th>\n",
       "    </tr>\n",
       "  </thead>\n",
       "  <tbody>\n",
       "    <tr>\n",
       "      <th>0</th>\n",
       "      <td>Luís Figo</td>\n",
       "      <td>Right Winger</td>\n",
       "      <td>27</td>\n",
       "      <td>FC Barcelona</td>\n",
       "      <td>LaLiga</td>\n",
       "      <td>Real Madrid</td>\n",
       "      <td>LaLiga</td>\n",
       "      <td>2000-2001</td>\n",
       "      <td>NaN</td>\n",
       "      <td>60000000</td>\n",
       "    </tr>\n",
       "    <tr>\n",
       "      <th>1</th>\n",
       "      <td>Hernán Crespo</td>\n",
       "      <td>Centre-Forward</td>\n",
       "      <td>25</td>\n",
       "      <td>Parma</td>\n",
       "      <td>Serie A</td>\n",
       "      <td>Lazio</td>\n",
       "      <td>Serie A</td>\n",
       "      <td>2000-2001</td>\n",
       "      <td>NaN</td>\n",
       "      <td>56810000</td>\n",
       "    </tr>\n",
       "    <tr>\n",
       "      <th>2</th>\n",
       "      <td>Marc Overmars</td>\n",
       "      <td>Left Winger</td>\n",
       "      <td>27</td>\n",
       "      <td>Arsenal</td>\n",
       "      <td>Premier League</td>\n",
       "      <td>FC Barcelona</td>\n",
       "      <td>LaLiga</td>\n",
       "      <td>2000-2001</td>\n",
       "      <td>NaN</td>\n",
       "      <td>40000000</td>\n",
       "    </tr>\n",
       "    <tr>\n",
       "      <th>3</th>\n",
       "      <td>Gabriel Batistuta</td>\n",
       "      <td>Centre-Forward</td>\n",
       "      <td>31</td>\n",
       "      <td>Fiorentina</td>\n",
       "      <td>Serie A</td>\n",
       "      <td>AS Roma</td>\n",
       "      <td>Serie A</td>\n",
       "      <td>2000-2001</td>\n",
       "      <td>NaN</td>\n",
       "      <td>36150000</td>\n",
       "    </tr>\n",
       "    <tr>\n",
       "      <th>5</th>\n",
       "      <td>Rio Ferdinand</td>\n",
       "      <td>Centre-Back</td>\n",
       "      <td>22</td>\n",
       "      <td>West Ham</td>\n",
       "      <td>Premier League</td>\n",
       "      <td>Leeds</td>\n",
       "      <td>Premier League</td>\n",
       "      <td>2000-2001</td>\n",
       "      <td>NaN</td>\n",
       "      <td>26000000</td>\n",
       "    </tr>\n",
       "    <tr>\n",
       "      <th>...</th>\n",
       "      <td>...</td>\n",
       "      <td>...</td>\n",
       "      <td>...</td>\n",
       "      <td>...</td>\n",
       "      <td>...</td>\n",
       "      <td>...</td>\n",
       "      <td>...</td>\n",
       "      <td>...</td>\n",
       "      <td>...</td>\n",
       "      <td>...</td>\n",
       "    </tr>\n",
       "    <tr>\n",
       "      <th>4689</th>\n",
       "      <td>Jens Odgaard</td>\n",
       "      <td>Centre-Forward</td>\n",
       "      <td>19</td>\n",
       "      <td>Inter</td>\n",
       "      <td>Serie A</td>\n",
       "      <td>Sassuolo</td>\n",
       "      <td>Serie A</td>\n",
       "      <td>2018-2019</td>\n",
       "      <td>800000.0</td>\n",
       "      <td>5000000</td>\n",
       "    </tr>\n",
       "    <tr>\n",
       "      <th>4690</th>\n",
       "      <td>Marco Carraro</td>\n",
       "      <td>Defensive Midfield</td>\n",
       "      <td>20</td>\n",
       "      <td>Inter</td>\n",
       "      <td>Serie A</td>\n",
       "      <td>Atalanta</td>\n",
       "      <td>Serie A</td>\n",
       "      <td>2018-2019</td>\n",
       "      <td>800000.0</td>\n",
       "      <td>5000000</td>\n",
       "    </tr>\n",
       "    <tr>\n",
       "      <th>4692</th>\n",
       "      <td>Giangiacomo Magnani</td>\n",
       "      <td>Centre-Back</td>\n",
       "      <td>22</td>\n",
       "      <td>Juventus</td>\n",
       "      <td>Serie A</td>\n",
       "      <td>Sassuolo</td>\n",
       "      <td>Serie A</td>\n",
       "      <td>2018-2019</td>\n",
       "      <td>600000.0</td>\n",
       "      <td>5000000</td>\n",
       "    </tr>\n",
       "    <tr>\n",
       "      <th>4693</th>\n",
       "      <td>Giangiacomo Magnani</td>\n",
       "      <td>Centre-Back</td>\n",
       "      <td>22</td>\n",
       "      <td>Perugia</td>\n",
       "      <td>Serie B</td>\n",
       "      <td>Juventus</td>\n",
       "      <td>Serie A</td>\n",
       "      <td>2018-2019</td>\n",
       "      <td>600000.0</td>\n",
       "      <td>5000000</td>\n",
       "    </tr>\n",
       "    <tr>\n",
       "      <th>4695</th>\n",
       "      <td>Jasmin Kurtic</td>\n",
       "      <td>Attacking Midfield</td>\n",
       "      <td>29</td>\n",
       "      <td>Atalanta</td>\n",
       "      <td>Serie A</td>\n",
       "      <td>SPAL</td>\n",
       "      <td>Serie A</td>\n",
       "      <td>2018-2019</td>\n",
       "      <td>5000000.0</td>\n",
       "      <td>4800000</td>\n",
       "    </tr>\n",
       "  </tbody>\n",
       "</table>\n",
       "<p>2520 rows × 10 columns</p>\n",
       "</div>"
      ],
      "text/plain": [
       "                     Name            Position  Age     Team_from  \\\n",
       "0               Luís Figo        Right Winger   27  FC Barcelona   \n",
       "1           Hernán Crespo      Centre-Forward   25         Parma   \n",
       "2           Marc Overmars         Left Winger   27       Arsenal   \n",
       "3       Gabriel Batistuta      Centre-Forward   31    Fiorentina   \n",
       "5           Rio Ferdinand         Centre-Back   22      West Ham   \n",
       "...                   ...                 ...  ...           ...   \n",
       "4689         Jens Odgaard      Centre-Forward   19         Inter   \n",
       "4690        Marco Carraro  Defensive Midfield   20         Inter   \n",
       "4692  Giangiacomo Magnani         Centre-Back   22      Juventus   \n",
       "4693  Giangiacomo Magnani         Centre-Back   22       Perugia   \n",
       "4695        Jasmin Kurtic  Attacking Midfield   29      Atalanta   \n",
       "\n",
       "         League_from       Team_to       League_to     Season  Market_value  \\\n",
       "0             LaLiga   Real Madrid          LaLiga  2000-2001           NaN   \n",
       "1            Serie A         Lazio         Serie A  2000-2001           NaN   \n",
       "2     Premier League  FC Barcelona          LaLiga  2000-2001           NaN   \n",
       "3            Serie A       AS Roma         Serie A  2000-2001           NaN   \n",
       "5     Premier League         Leeds  Premier League  2000-2001           NaN   \n",
       "...              ...           ...             ...        ...           ...   \n",
       "4689         Serie A      Sassuolo         Serie A  2018-2019      800000.0   \n",
       "4690         Serie A      Atalanta         Serie A  2018-2019      800000.0   \n",
       "4692         Serie A      Sassuolo         Serie A  2018-2019      600000.0   \n",
       "4693         Serie B      Juventus         Serie A  2018-2019      600000.0   \n",
       "4695         Serie A          SPAL         Serie A  2018-2019     5000000.0   \n",
       "\n",
       "      Transfer_fee  \n",
       "0         60000000  \n",
       "1         56810000  \n",
       "2         40000000  \n",
       "3         36150000  \n",
       "5         26000000  \n",
       "...            ...  \n",
       "4689       5000000  \n",
       "4690       5000000  \n",
       "4692       5000000  \n",
       "4693       5000000  \n",
       "4695       4800000  \n",
       "\n",
       "[2520 rows x 10 columns]"
      ]
     },
     "execution_count": 237,
     "metadata": {},
     "output_type": "execute_result"
    }
   ],
   "source": [
    "tf = tf[(tf['League_to']=='LaLiga')|(tf['League_to']=='Premier League')|(tf['League_to']=='Serie A')]\n",
    "tf"
   ]
  },
  {
   "cell_type": "markdown",
   "metadata": {},
   "source": [
    "## ```Data Cleaning```"
   ]
  },
  {
   "cell_type": "markdown",
   "metadata": {},
   "source": [
    "Melihat apakah ada Missing Values"
   ]
  },
  {
   "cell_type": "code",
   "execution_count": 238,
   "metadata": {},
   "outputs": [
    {
     "name": "stdout",
     "output_type": "stream",
     "text": [
      "<class 'pandas.core.frame.DataFrame'>\n",
      "Int64Index: 2520 entries, 0 to 4695\n",
      "Data columns (total 10 columns):\n",
      " #   Column        Non-Null Count  Dtype  \n",
      "---  ------        --------------  -----  \n",
      " 0   Name          2520 non-null   object \n",
      " 1   Position      2520 non-null   object \n",
      " 2   Age           2520 non-null   int64  \n",
      " 3   Team_from     2520 non-null   object \n",
      " 4   League_from   2520 non-null   object \n",
      " 5   Team_to       2520 non-null   object \n",
      " 6   League_to     2520 non-null   object \n",
      " 7   Season        2520 non-null   object \n",
      " 8   Market_value  1910 non-null   float64\n",
      " 9   Transfer_fee  2520 non-null   int64  \n",
      "dtypes: float64(1), int64(2), object(7)\n",
      "memory usage: 216.6+ KB\n"
     ]
    }
   ],
   "source": [
    "tf.info()"
   ]
  },
  {
   "cell_type": "markdown",
   "metadata": {},
   "source": [
    "Handling Missing Values"
   ]
  },
  {
   "cell_type": "code",
   "execution_count": 239,
   "metadata": {},
   "outputs": [
    {
     "data": {
      "text/plain": [
       "Name              0\n",
       "Position          0\n",
       "Age               0\n",
       "Team_from         0\n",
       "League_from       0\n",
       "Team_to           0\n",
       "League_to         0\n",
       "Season            0\n",
       "Market_value    610\n",
       "Transfer_fee      0\n",
       "dtype: int64"
      ]
     },
     "execution_count": 239,
     "metadata": {},
     "output_type": "execute_result"
    }
   ],
   "source": [
    "tf.isnull().sum()"
   ]
  },
  {
   "cell_type": "markdown",
   "metadata": {},
   "source": [
    "Missing Values hanya berada di kolom Market_value. kolom Market_value tidak akan saya gunakan, maka kolom tersebut akan di hapus"
   ]
  },
  {
   "cell_type": "code",
   "execution_count": 240,
   "metadata": {},
   "outputs": [
    {
     "name": "stderr",
     "output_type": "stream",
     "text": [
      "c:\\Users\\ANCA\\AppData\\Local\\Programs\\Python\\Python37\\lib\\site-packages\\pandas\\core\\frame.py:3997: SettingWithCopyWarning: \n",
      "A value is trying to be set on a copy of a slice from a DataFrame\n",
      "\n",
      "See the caveats in the documentation: https://pandas.pydata.org/pandas-docs/stable/user_guide/indexing.html#returning-a-view-versus-a-copy\n",
      "  errors=errors,\n"
     ]
    }
   ],
   "source": [
    "tf.drop('Market_value', inplace=True, axis=1)"
   ]
  },
  {
   "cell_type": "code",
   "execution_count": 241,
   "metadata": {},
   "outputs": [
    {
     "name": "stdout",
     "output_type": "stream",
     "text": [
      "<class 'pandas.core.frame.DataFrame'>\n",
      "Int64Index: 2520 entries, 0 to 4695\n",
      "Data columns (total 9 columns):\n",
      " #   Column        Non-Null Count  Dtype \n",
      "---  ------        --------------  ----- \n",
      " 0   Name          2520 non-null   object\n",
      " 1   Position      2520 non-null   object\n",
      " 2   Age           2520 non-null   int64 \n",
      " 3   Team_from     2520 non-null   object\n",
      " 4   League_from   2520 non-null   object\n",
      " 5   Team_to       2520 non-null   object\n",
      " 6   League_to     2520 non-null   object\n",
      " 7   Season        2520 non-null   object\n",
      " 8   Transfer_fee  2520 non-null   int64 \n",
      "dtypes: int64(2), object(7)\n",
      "memory usage: 196.9+ KB\n"
     ]
    }
   ],
   "source": [
    "tf.info()"
   ]
  },
  {
   "cell_type": "markdown",
   "metadata": {},
   "source": [
    "# ANALISIS DAN PERHITUNGAN\n",
    "## ```Data Exploratory dan Penjabaran dari semua Problem Statement```\n",
    "Melihat berapa banyak pembelian dari setiap liga\n"
   ]
  },
  {
   "cell_type": "code",
   "execution_count": 242,
   "metadata": {},
   "outputs": [
    {
     "data": {
      "text/html": [
       "<div>\n",
       "<style scoped>\n",
       "    .dataframe tbody tr th:only-of-type {\n",
       "        vertical-align: middle;\n",
       "    }\n",
       "\n",
       "    .dataframe tbody tr th {\n",
       "        vertical-align: top;\n",
       "    }\n",
       "\n",
       "    .dataframe thead th {\n",
       "        text-align: right;\n",
       "    }\n",
       "</style>\n",
       "<table border=\"1\" class=\"dataframe\">\n",
       "  <thead>\n",
       "    <tr style=\"text-align: right;\">\n",
       "      <th></th>\n",
       "      <th>League_to</th>\n",
       "    </tr>\n",
       "  </thead>\n",
       "  <tbody>\n",
       "    <tr>\n",
       "      <th>Premier League</th>\n",
       "      <td>1256</td>\n",
       "    </tr>\n",
       "    <tr>\n",
       "      <th>Serie A</th>\n",
       "      <td>739</td>\n",
       "    </tr>\n",
       "    <tr>\n",
       "      <th>LaLiga</th>\n",
       "      <td>525</td>\n",
       "    </tr>\n",
       "  </tbody>\n",
       "</table>\n",
       "</div>"
      ],
      "text/plain": [
       "                League_to\n",
       "Premier League       1256\n",
       "Serie A               739\n",
       "LaLiga                525"
      ]
     },
     "execution_count": 242,
     "metadata": {},
     "output_type": "execute_result"
    }
   ],
   "source": [
    "tftotal = tf['League_to'].value_counts()\n",
    "tftotal = tftotal.to_frame()\n",
    "tftotal"
   ]
  },
  {
   "cell_type": "code",
   "execution_count": 243,
   "metadata": {},
   "outputs": [
    {
     "data": {
      "image/png": "[encoded data removed]",
      "text/plain": [
       "<Figure size 792x432 with 1 Axes>"
      ]
     },
     "metadata": {},
     "output_type": "display_data"
    }
   ],
   "source": [
    "tftotal.plot.pie(subplots=True,autopct='%1.1f%%', figsize=(11, 6))\n",
    "plt.title(\"Transfer Activity\")\n",
    "plt.show()"
   ]
  },
  {
   "cell_type": "markdown",
   "metadata": {},
   "source": [
    "Melihat total penjualan dari setiap liga"
   ]
  },
  {
   "cell_type": "code",
   "execution_count": 244,
   "metadata": {},
   "outputs": [
    {
     "data": {
      "text/html": [
       "<div>\n",
       "<style scoped>\n",
       "    .dataframe tbody tr th:only-of-type {\n",
       "        vertical-align: middle;\n",
       "    }\n",
       "\n",
       "    .dataframe tbody tr th {\n",
       "        vertical-align: top;\n",
       "    }\n",
       "\n",
       "    .dataframe thead th {\n",
       "        text-align: right;\n",
       "    }\n",
       "</style>\n",
       "<table border=\"1\" class=\"dataframe\">\n",
       "  <thead>\n",
       "    <tr style=\"text-align: right;\">\n",
       "      <th></th>\n",
       "      <th>Transfer_fee</th>\n",
       "    </tr>\n",
       "    <tr>\n",
       "      <th>League_from</th>\n",
       "      <th></th>\n",
       "    </tr>\n",
       "  </thead>\n",
       "  <tbody>\n",
       "    <tr>\n",
       "      <th>Premier League</th>\n",
       "      <td>5999350000</td>\n",
       "    </tr>\n",
       "    <tr>\n",
       "      <th>Serie A</th>\n",
       "      <td>5844950000</td>\n",
       "    </tr>\n",
       "    <tr>\n",
       "      <th>LaLiga</th>\n",
       "      <td>4218770000</td>\n",
       "    </tr>\n",
       "  </tbody>\n",
       "</table>\n",
       "</div>"
      ],
      "text/plain": [
       "                Transfer_fee\n",
       "League_from                 \n",
       "Premier League    5999350000\n",
       "Serie A           5844950000\n",
       "LaLiga            4218770000"
      ]
     },
     "execution_count": 244,
     "metadata": {},
     "output_type": "execute_result"
    }
   ],
   "source": [
    "topselling = tf.groupby(['League_from'])['Transfer_fee'].sum().sort_values(ascending=False).head(3)\n",
    "topselling = topselling.to_frame()\n",
    "topselling"
   ]
  },
  {
   "cell_type": "markdown",
   "metadata": {},
   "source": [
    "Melihat total pembelian dari setiap liga"
   ]
  },
  {
   "cell_type": "code",
   "execution_count": 245,
   "metadata": {},
   "outputs": [
    {
     "data": {
      "text/html": [
       "<div>\n",
       "<style scoped>\n",
       "    .dataframe tbody tr th:only-of-type {\n",
       "        vertical-align: middle;\n",
       "    }\n",
       "\n",
       "    .dataframe tbody tr th {\n",
       "        vertical-align: top;\n",
       "    }\n",
       "\n",
       "    .dataframe thead th {\n",
       "        text-align: right;\n",
       "    }\n",
       "</style>\n",
       "<table border=\"1\" class=\"dataframe\">\n",
       "  <thead>\n",
       "    <tr style=\"text-align: right;\">\n",
       "      <th></th>\n",
       "      <th>Transfer_fee</th>\n",
       "    </tr>\n",
       "    <tr>\n",
       "      <th>League_to</th>\n",
       "      <th></th>\n",
       "    </tr>\n",
       "  </thead>\n",
       "  <tbody>\n",
       "    <tr>\n",
       "      <th>Premier League</th>\n",
       "      <td>14695400000</td>\n",
       "    </tr>\n",
       "    <tr>\n",
       "      <th>Serie A</th>\n",
       "      <td>7535220000</td>\n",
       "    </tr>\n",
       "    <tr>\n",
       "      <th>LaLiga</th>\n",
       "      <td>6680360000</td>\n",
       "    </tr>\n",
       "  </tbody>\n",
       "</table>\n",
       "</div>"
      ],
      "text/plain": [
       "                Transfer_fee\n",
       "League_to                   \n",
       "Premier League   14695400000\n",
       "Serie A           7535220000\n",
       "LaLiga            6680360000"
      ]
     },
     "execution_count": 245,
     "metadata": {},
     "output_type": "execute_result"
    }
   ],
   "source": [
    "topspending = tf.groupby(['League_to'])['Transfer_fee'].sum().sort_values(ascending=False).head(5)\n",
    "topspending = topspending.to_frame()\n",
    "topspending"
   ]
  },
  {
   "cell_type": "markdown",
   "metadata": {},
   "source": [
    "Melihat total kerugian/keuntungan yang didapatkan dari setiap liga"
   ]
  },
  {
   "cell_type": "code",
   "execution_count": 246,
   "metadata": {},
   "outputs": [
    {
     "data": {
      "text/html": [
       "<div>\n",
       "<style scoped>\n",
       "    .dataframe tbody tr th:only-of-type {\n",
       "        vertical-align: middle;\n",
       "    }\n",
       "\n",
       "    .dataframe tbody tr th {\n",
       "        vertical-align: top;\n",
       "    }\n",
       "\n",
       "    .dataframe thead th {\n",
       "        text-align: right;\n",
       "    }\n",
       "</style>\n",
       "<table border=\"1\" class=\"dataframe\">\n",
       "  <thead>\n",
       "    <tr style=\"text-align: right;\">\n",
       "      <th></th>\n",
       "      <th>Transfer_fee</th>\n",
       "    </tr>\n",
       "    <tr>\n",
       "      <th>League_from</th>\n",
       "      <th></th>\n",
       "    </tr>\n",
       "  </thead>\n",
       "  <tbody>\n",
       "    <tr>\n",
       "      <th>Premier League</th>\n",
       "      <td>-8696050000</td>\n",
       "    </tr>\n",
       "    <tr>\n",
       "      <th>Serie A</th>\n",
       "      <td>-1690270000</td>\n",
       "    </tr>\n",
       "    <tr>\n",
       "      <th>LaLiga</th>\n",
       "      <td>-2461590000</td>\n",
       "    </tr>\n",
       "  </tbody>\n",
       "</table>\n",
       "</div>"
      ],
      "text/plain": [
       "                Transfer_fee\n",
       "League_from                 \n",
       "Premier League   -8696050000\n",
       "Serie A          -1690270000\n",
       "LaLiga           -2461590000"
      ]
     },
     "execution_count": 246,
     "metadata": {},
     "output_type": "execute_result"
    }
   ],
   "source": [
    "topprofit = topselling - topspending  \n",
    "\n",
    "topprofit"
   ]
  },
  {
   "cell_type": "markdown",
   "metadata": {},
   "source": [
    "##### Setelah dilihat selisih penjualan dan pembeliannya, semua liga mengalami kerugian.\n",
    "\n",
    "\n"
   ]
  },
  {
   "cell_type": "markdown",
   "metadata": {},
   "source": [
    "Memisahkan data berdasarkan liganya"
   ]
  },
  {
   "cell_type": "code",
   "execution_count": 247,
   "metadata": {},
   "outputs": [],
   "source": [
    "tfLaliga = tf.query('League_to == \"LaLiga\"')\n",
    "tfprem = tf.query('League_to == \"Premier League\"')\n",
    "tfserieA = tf.query('League_to == \"Serie A\"')\n"
   ]
  },
  {
   "cell_type": "markdown",
   "metadata": {},
   "source": [
    "### ```1. Liga yang Mendapatkan Keuntungan/Kerugian terbesar selama 2001 sampai 2019```"
   ]
  },
  {
   "cell_type": "code",
   "execution_count": 248,
   "metadata": {},
   "outputs": [
    {
     "data": {
      "text/html": [
       "<div>\n",
       "<style scoped>\n",
       "    .dataframe tbody tr th:only-of-type {\n",
       "        vertical-align: middle;\n",
       "    }\n",
       "\n",
       "    .dataframe tbody tr th {\n",
       "        vertical-align: top;\n",
       "    }\n",
       "\n",
       "    .dataframe thead th {\n",
       "        text-align: right;\n",
       "    }\n",
       "</style>\n",
       "<table border=\"1\" class=\"dataframe\">\n",
       "  <thead>\n",
       "    <tr style=\"text-align: right;\">\n",
       "      <th></th>\n",
       "      <th>index</th>\n",
       "      <th>Top_Selling</th>\n",
       "      <th>Top_Spending</th>\n",
       "      <th>Top_profit</th>\n",
       "    </tr>\n",
       "  </thead>\n",
       "  <tbody>\n",
       "    <tr>\n",
       "      <th>0</th>\n",
       "      <td>Premier League</td>\n",
       "      <td>5999350000</td>\n",
       "      <td>14695400000</td>\n",
       "      <td>-8696050000</td>\n",
       "    </tr>\n",
       "    <tr>\n",
       "      <th>1</th>\n",
       "      <td>Serie A</td>\n",
       "      <td>5844950000</td>\n",
       "      <td>7535220000</td>\n",
       "      <td>-1690270000</td>\n",
       "    </tr>\n",
       "    <tr>\n",
       "      <th>2</th>\n",
       "      <td>LaLiga</td>\n",
       "      <td>4218770000</td>\n",
       "      <td>6680360000</td>\n",
       "      <td>-2461590000</td>\n",
       "    </tr>\n",
       "  </tbody>\n",
       "</table>\n",
       "</div>"
      ],
      "text/plain": [
       "            index  Top_Selling  Top_Spending  Top_profit\n",
       "0  Premier League   5999350000   14695400000 -8696050000\n",
       "1         Serie A   5844950000    7535220000 -1690270000\n",
       "2          LaLiga   4218770000    6680360000 -2461590000"
      ]
     },
     "execution_count": 248,
     "metadata": {},
     "output_type": "execute_result"
    }
   ],
   "source": [
    "income = pd.concat([topselling, topspending, topprofit], axis=1)\n",
    "income.columns = ['Top_Selling', 'Top_Spending', 'Top_profit']\n",
    "income = income.reset_index()\n",
    "income"
   ]
  },
  {
   "cell_type": "code",
   "execution_count": 249,
   "metadata": {},
   "outputs": [
    {
     "data": {
      "text/html": [
       "<div>\n",
       "<style scoped>\n",
       "    .dataframe tbody tr th:only-of-type {\n",
       "        vertical-align: middle;\n",
       "    }\n",
       "\n",
       "    .dataframe tbody tr th {\n",
       "        vertical-align: top;\n",
       "    }\n",
       "\n",
       "    .dataframe thead th {\n",
       "        text-align: right;\n",
       "    }\n",
       "</style>\n",
       "<table border=\"1\" class=\"dataframe\">\n",
       "  <thead>\n",
       "    <tr style=\"text-align: right;\">\n",
       "      <th></th>\n",
       "      <th>index</th>\n",
       "      <th>variable</th>\n",
       "      <th>value</th>\n",
       "    </tr>\n",
       "  </thead>\n",
       "  <tbody>\n",
       "    <tr>\n",
       "      <th>0</th>\n",
       "      <td>Premier League</td>\n",
       "      <td>Top_Selling</td>\n",
       "      <td>5999350000</td>\n",
       "    </tr>\n",
       "    <tr>\n",
       "      <th>1</th>\n",
       "      <td>Serie A</td>\n",
       "      <td>Top_Selling</td>\n",
       "      <td>5844950000</td>\n",
       "    </tr>\n",
       "    <tr>\n",
       "      <th>2</th>\n",
       "      <td>LaLiga</td>\n",
       "      <td>Top_Selling</td>\n",
       "      <td>4218770000</td>\n",
       "    </tr>\n",
       "    <tr>\n",
       "      <th>3</th>\n",
       "      <td>Premier League</td>\n",
       "      <td>Top_Spending</td>\n",
       "      <td>14695400000</td>\n",
       "    </tr>\n",
       "    <tr>\n",
       "      <th>4</th>\n",
       "      <td>Serie A</td>\n",
       "      <td>Top_Spending</td>\n",
       "      <td>7535220000</td>\n",
       "    </tr>\n",
       "    <tr>\n",
       "      <th>5</th>\n",
       "      <td>LaLiga</td>\n",
       "      <td>Top_Spending</td>\n",
       "      <td>6680360000</td>\n",
       "    </tr>\n",
       "    <tr>\n",
       "      <th>6</th>\n",
       "      <td>Premier League</td>\n",
       "      <td>Top_profit</td>\n",
       "      <td>-8696050000</td>\n",
       "    </tr>\n",
       "    <tr>\n",
       "      <th>7</th>\n",
       "      <td>Serie A</td>\n",
       "      <td>Top_profit</td>\n",
       "      <td>-1690270000</td>\n",
       "    </tr>\n",
       "    <tr>\n",
       "      <th>8</th>\n",
       "      <td>LaLiga</td>\n",
       "      <td>Top_profit</td>\n",
       "      <td>-2461590000</td>\n",
       "    </tr>\n",
       "  </tbody>\n",
       "</table>\n",
       "</div>"
      ],
      "text/plain": [
       "            index      variable        value\n",
       "0  Premier League   Top_Selling   5999350000\n",
       "1         Serie A   Top_Selling   5844950000\n",
       "2          LaLiga   Top_Selling   4218770000\n",
       "3  Premier League  Top_Spending  14695400000\n",
       "4         Serie A  Top_Spending   7535220000\n",
       "5          LaLiga  Top_Spending   6680360000\n",
       "6  Premier League    Top_profit  -8696050000\n",
       "7         Serie A    Top_profit  -1690270000\n",
       "8          LaLiga    Top_profit  -2461590000"
      ]
     },
     "execution_count": 249,
     "metadata": {},
     "output_type": "execute_result"
    }
   ],
   "source": [
    "income = pd.melt(income, id_vars=['index'], value_vars= ['Top_Selling','Top_Spending','Top_profit'])\n",
    "income"
   ]
  },
  {
   "cell_type": "code",
   "execution_count": 250,
   "metadata": {},
   "outputs": [
    {
     "data": {
      "text/plain": [
       "<matplotlib.axes._subplots.AxesSubplot at 0x24ec994fcc8>"
      ]
     },
     "execution_count": 250,
     "metadata": {},
     "output_type": "execute_result"
    },
    {
     "data": {
      "image/png": "[encoded data removed]",
      "text/plain": [
       "<Figure size 432x288 with 1 Axes>"
      ]
     },
     "metadata": {
      "needs_background": "light"
     },
     "output_type": "display_data"
    }
   ],
   "source": [
    "sns.barplot(data=income, x='index', y='value', hue='variable')"
   ]
  },
  {
   "cell_type": "markdown",
   "metadata": {},
   "source": [
    "Dapat dilihat bahwa aktivitas transfer pada 3 liga teratas eropa lebih banyak melakukan pembelian pemain daripada menjual pemain, sehingga liga tersebut semuanya mengalami kerugian dalam aktivitas transfer selama 2000 sampai 2019 "
   ]
  },
  {
   "cell_type": "markdown",
   "metadata": {},
   "source": [
    "### ```2. Rata-rata Transfer Fee pemain berdasarkan setiap season```"
   ]
  },
  {
   "cell_type": "markdown",
   "metadata": {},
   "source": [
    "```Rata-rata Transfer Fee merupakan rata-rata biaya yang harus dikeluarkan oleh sebuah club jika ingin membeli seorang pemain. Saya ingin melihat pergerakan rata-rata harga pemain pada setiap season. Rata-rata transfer fee akan dibagi berdasarkan liganya``` "
   ]
  },
  {
   "cell_type": "markdown",
   "metadata": {},
   "source": [
    "### Premier League (England)"
   ]
  },
  {
   "cell_type": "markdown",
   "metadata": {},
   "source": [
    "Mencari jumlah dari harga pembelian Premier League setiap season"
   ]
  },
  {
   "cell_type": "code",
   "execution_count": 251,
   "metadata": {},
   "outputs": [
    {
     "data": {
      "text/html": [
       "<div>\n",
       "<style scoped>\n",
       "    .dataframe tbody tr th:only-of-type {\n",
       "        vertical-align: middle;\n",
       "    }\n",
       "\n",
       "    .dataframe tbody tr th {\n",
       "        vertical-align: top;\n",
       "    }\n",
       "\n",
       "    .dataframe thead th {\n",
       "        text-align: right;\n",
       "    }\n",
       "</style>\n",
       "<table border=\"1\" class=\"dataframe\">\n",
       "  <thead>\n",
       "    <tr style=\"text-align: right;\">\n",
       "      <th></th>\n",
       "      <th>Transfer_fee</th>\n",
       "    </tr>\n",
       "    <tr>\n",
       "      <th>Season</th>\n",
       "      <th></th>\n",
       "    </tr>\n",
       "  </thead>\n",
       "  <tbody>\n",
       "    <tr>\n",
       "      <th>2000-2001</th>\n",
       "      <td>443700000</td>\n",
       "    </tr>\n",
       "    <tr>\n",
       "      <th>2001-2002</th>\n",
       "      <td>557300000</td>\n",
       "    </tr>\n",
       "    <tr>\n",
       "      <th>2002-2003</th>\n",
       "      <td>329670000</td>\n",
       "    </tr>\n",
       "    <tr>\n",
       "      <th>2003-2004</th>\n",
       "      <td>410020000</td>\n",
       "    </tr>\n",
       "    <tr>\n",
       "      <th>2004-2005</th>\n",
       "      <td>479310000</td>\n",
       "    </tr>\n",
       "  </tbody>\n",
       "</table>\n",
       "</div>"
      ],
      "text/plain": [
       "           Transfer_fee\n",
       "Season                 \n",
       "2000-2001     443700000\n",
       "2001-2002     557300000\n",
       "2002-2003     329670000\n",
       "2003-2004     410020000\n",
       "2004-2005     479310000"
      ]
     },
     "execution_count": 251,
     "metadata": {},
     "output_type": "execute_result"
    }
   ],
   "source": [
    "totfeeprem = tfprem.groupby('Season')[['Transfer_fee']].sum()\n",
    "totfeeprem.head(5)"
   ]
  },
  {
   "cell_type": "markdown",
   "metadata": {},
   "source": [
    "Mencari jumlah pemain yang dibeli oleh tim Premier League pada setiap season"
   ]
  },
  {
   "cell_type": "code",
   "execution_count": 252,
   "metadata": {},
   "outputs": [
    {
     "data": {
      "text/html": [
       "<div>\n",
       "<style scoped>\n",
       "    .dataframe tbody tr th:only-of-type {\n",
       "        vertical-align: middle;\n",
       "    }\n",
       "\n",
       "    .dataframe tbody tr th {\n",
       "        vertical-align: top;\n",
       "    }\n",
       "\n",
       "    .dataframe thead th {\n",
       "        text-align: right;\n",
       "    }\n",
       "</style>\n",
       "<table border=\"1\" class=\"dataframe\">\n",
       "  <thead>\n",
       "    <tr style=\"text-align: right;\">\n",
       "      <th></th>\n",
       "      <th>League_to</th>\n",
       "    </tr>\n",
       "    <tr>\n",
       "      <th>Season</th>\n",
       "      <th></th>\n",
       "    </tr>\n",
       "  </thead>\n",
       "  <tbody>\n",
       "    <tr>\n",
       "      <th>2000-2001</th>\n",
       "      <td>65</td>\n",
       "    </tr>\n",
       "    <tr>\n",
       "      <th>2001-2002</th>\n",
       "      <td>73</td>\n",
       "    </tr>\n",
       "    <tr>\n",
       "      <th>2002-2003</th>\n",
       "      <td>58</td>\n",
       "    </tr>\n",
       "    <tr>\n",
       "      <th>2003-2004</th>\n",
       "      <td>65</td>\n",
       "    </tr>\n",
       "    <tr>\n",
       "      <th>2004-2005</th>\n",
       "      <td>68</td>\n",
       "    </tr>\n",
       "  </tbody>\n",
       "</table>\n",
       "</div>"
      ],
      "text/plain": [
       "           League_to\n",
       "Season              \n",
       "2000-2001         65\n",
       "2001-2002         73\n",
       "2002-2003         58\n",
       "2003-2004         65\n",
       "2004-2005         68"
      ]
     },
     "execution_count": 252,
     "metadata": {},
     "output_type": "execute_result"
    }
   ],
   "source": [
    "totplayerprem = tfprem.groupby('Season')[['League_to']].count()\n",
    "totplayerprem.head()"
   ]
  },
  {
   "cell_type": "code",
   "execution_count": 253,
   "metadata": {},
   "outputs": [
    {
     "data": {
      "text/html": [
       "<div>\n",
       "<style scoped>\n",
       "    .dataframe tbody tr th:only-of-type {\n",
       "        vertical-align: middle;\n",
       "    }\n",
       "\n",
       "    .dataframe tbody tr th {\n",
       "        vertical-align: top;\n",
       "    }\n",
       "\n",
       "    .dataframe thead th {\n",
       "        text-align: right;\n",
       "    }\n",
       "</style>\n",
       "<table border=\"1\" class=\"dataframe\">\n",
       "  <thead>\n",
       "    <tr style=\"text-align: right;\">\n",
       "      <th></th>\n",
       "      <th>Total_Fee</th>\n",
       "      <th>Total_Player</th>\n",
       "      <th>Ratio_PlayersVSFee</th>\n",
       "    </tr>\n",
       "    <tr>\n",
       "      <th>Season</th>\n",
       "      <th></th>\n",
       "      <th></th>\n",
       "      <th></th>\n",
       "    </tr>\n",
       "  </thead>\n",
       "  <tbody>\n",
       "    <tr>\n",
       "      <th>2000-2001</th>\n",
       "      <td>443700000</td>\n",
       "      <td>65</td>\n",
       "      <td>6.826154e+06</td>\n",
       "    </tr>\n",
       "    <tr>\n",
       "      <th>2001-2002</th>\n",
       "      <td>557300000</td>\n",
       "      <td>73</td>\n",
       "      <td>7.634247e+06</td>\n",
       "    </tr>\n",
       "    <tr>\n",
       "      <th>2002-2003</th>\n",
       "      <td>329670000</td>\n",
       "      <td>58</td>\n",
       "      <td>5.683966e+06</td>\n",
       "    </tr>\n",
       "    <tr>\n",
       "      <th>2003-2004</th>\n",
       "      <td>410020000</td>\n",
       "      <td>65</td>\n",
       "      <td>6.308000e+06</td>\n",
       "    </tr>\n",
       "    <tr>\n",
       "      <th>2004-2005</th>\n",
       "      <td>479310000</td>\n",
       "      <td>68</td>\n",
       "      <td>7.048676e+06</td>\n",
       "    </tr>\n",
       "    <tr>\n",
       "      <th>2005-2006</th>\n",
       "      <td>469430000</td>\n",
       "      <td>69</td>\n",
       "      <td>6.803333e+06</td>\n",
       "    </tr>\n",
       "    <tr>\n",
       "      <th>2006-2007</th>\n",
       "      <td>477270000</td>\n",
       "      <td>60</td>\n",
       "      <td>7.954500e+06</td>\n",
       "    </tr>\n",
       "    <tr>\n",
       "      <th>2007-2008</th>\n",
       "      <td>784330000</td>\n",
       "      <td>82</td>\n",
       "      <td>9.565000e+06</td>\n",
       "    </tr>\n",
       "    <tr>\n",
       "      <th>2008-2009</th>\n",
       "      <td>754590000</td>\n",
       "      <td>71</td>\n",
       "      <td>1.062803e+07</td>\n",
       "    </tr>\n",
       "    <tr>\n",
       "      <th>2009-2010</th>\n",
       "      <td>502400000</td>\n",
       "      <td>54</td>\n",
       "      <td>9.303704e+06</td>\n",
       "    </tr>\n",
       "    <tr>\n",
       "      <th>2010-2011</th>\n",
       "      <td>622320000</td>\n",
       "      <td>51</td>\n",
       "      <td>1.220235e+07</td>\n",
       "    </tr>\n",
       "    <tr>\n",
       "      <th>2011-2012</th>\n",
       "      <td>549900000</td>\n",
       "      <td>55</td>\n",
       "      <td>9.998182e+06</td>\n",
       "    </tr>\n",
       "    <tr>\n",
       "      <th>2012-2013</th>\n",
       "      <td>673750000</td>\n",
       "      <td>67</td>\n",
       "      <td>1.005597e+07</td>\n",
       "    </tr>\n",
       "    <tr>\n",
       "      <th>2013-2014</th>\n",
       "      <td>798960000</td>\n",
       "      <td>55</td>\n",
       "      <td>1.452655e+07</td>\n",
       "    </tr>\n",
       "    <tr>\n",
       "      <th>2014-2015</th>\n",
       "      <td>1108170000</td>\n",
       "      <td>75</td>\n",
       "      <td>1.477560e+07</td>\n",
       "    </tr>\n",
       "    <tr>\n",
       "      <th>2015-2016</th>\n",
       "      <td>1304680000</td>\n",
       "      <td>86</td>\n",
       "      <td>1.517070e+07</td>\n",
       "    </tr>\n",
       "    <tr>\n",
       "      <th>2016-2017</th>\n",
       "      <td>1462500000</td>\n",
       "      <td>73</td>\n",
       "      <td>2.003425e+07</td>\n",
       "    </tr>\n",
       "    <tr>\n",
       "      <th>2017-2018</th>\n",
       "      <td>1943900000</td>\n",
       "      <td>79</td>\n",
       "      <td>2.460633e+07</td>\n",
       "    </tr>\n",
       "    <tr>\n",
       "      <th>2018-2019</th>\n",
       "      <td>1023200000</td>\n",
       "      <td>50</td>\n",
       "      <td>2.046400e+07</td>\n",
       "    </tr>\n",
       "  </tbody>\n",
       "</table>\n",
       "</div>"
      ],
      "text/plain": [
       "            Total_Fee  Total_Player  Ratio_PlayersVSFee\n",
       "Season                                                 \n",
       "2000-2001   443700000            65        6.826154e+06\n",
       "2001-2002   557300000            73        7.634247e+06\n",
       "2002-2003   329670000            58        5.683966e+06\n",
       "2003-2004   410020000            65        6.308000e+06\n",
       "2004-2005   479310000            68        7.048676e+06\n",
       "2005-2006   469430000            69        6.803333e+06\n",
       "2006-2007   477270000            60        7.954500e+06\n",
       "2007-2008   784330000            82        9.565000e+06\n",
       "2008-2009   754590000            71        1.062803e+07\n",
       "2009-2010   502400000            54        9.303704e+06\n",
       "2010-2011   622320000            51        1.220235e+07\n",
       "2011-2012   549900000            55        9.998182e+06\n",
       "2012-2013   673750000            67        1.005597e+07\n",
       "2013-2014   798960000            55        1.452655e+07\n",
       "2014-2015  1108170000            75        1.477560e+07\n",
       "2015-2016  1304680000            86        1.517070e+07\n",
       "2016-2017  1462500000            73        2.003425e+07\n",
       "2017-2018  1943900000            79        2.460633e+07\n",
       "2018-2019  1023200000            50        2.046400e+07"
      ]
     },
     "execution_count": 253,
     "metadata": {},
     "output_type": "execute_result"
    }
   ],
   "source": [
    "premtf = pd.concat([totfeeprem, totplayerprem], axis=1)\n",
    "premtf.columns = ['Total_Fee', 'Total_Player']\n",
    "premtf['Ratio_PlayersVSFee'] = premtf['Total_Fee']/premtf['Total_Player']\n",
    "premtf.head()\n",
    "premtf"
   ]
  },
  {
   "cell_type": "code",
   "execution_count": 254,
   "metadata": {},
   "outputs": [
    {
     "data": {
      "text/plain": [
       "Text(0.5, 1.0, 'Rata-rata Transfer Fee pemain untuk setiap season')"
      ]
     },
     "execution_count": 254,
     "metadata": {},
     "output_type": "execute_result"
    },
    {
     "data": {
      "image/png": "[encoded data removed]",
      "text/plain": [
       "<Figure size 432x288 with 1 Axes>"
      ]
     },
     "metadata": {
      "needs_background": "light"
     },
     "output_type": "display_data"
    }
   ],
   "source": [
    "sns.lineplot(data=premtf, x =premtf.index, y = 'Ratio_PlayersVSFee')\n",
    "plt.xticks(rotation = 90)\n",
    "plt.title('Rata-rata Transfer Fee pemain untuk setiap season')"
   ]
  },
  {
   "cell_type": "markdown",
   "metadata": {},
   "source": [
    "### La Liga (Spain)"
   ]
  },
  {
   "cell_type": "markdown",
   "metadata": {},
   "source": [
    "Mencari jumlah dari harga pembelian La Liga setiap season"
   ]
  },
  {
   "cell_type": "code",
   "execution_count": 255,
   "metadata": {},
   "outputs": [
    {
     "data": {
      "text/html": [
       "<div>\n",
       "<style scoped>\n",
       "    .dataframe tbody tr th:only-of-type {\n",
       "        vertical-align: middle;\n",
       "    }\n",
       "\n",
       "    .dataframe tbody tr th {\n",
       "        vertical-align: top;\n",
       "    }\n",
       "\n",
       "    .dataframe thead th {\n",
       "        text-align: right;\n",
       "    }\n",
       "</style>\n",
       "<table border=\"1\" class=\"dataframe\">\n",
       "  <thead>\n",
       "    <tr style=\"text-align: right;\">\n",
       "      <th></th>\n",
       "      <th>Transfer_fee</th>\n",
       "    </tr>\n",
       "    <tr>\n",
       "      <th>Season</th>\n",
       "      <th></th>\n",
       "    </tr>\n",
       "  </thead>\n",
       "  <tbody>\n",
       "    <tr>\n",
       "      <th>2000-2001</th>\n",
       "      <td>362270000</td>\n",
       "    </tr>\n",
       "    <tr>\n",
       "      <th>2001-2002</th>\n",
       "      <td>276680000</td>\n",
       "    </tr>\n",
       "    <tr>\n",
       "      <th>2002-2003</th>\n",
       "      <td>136370000</td>\n",
       "    </tr>\n",
       "    <tr>\n",
       "      <th>2003-2004</th>\n",
       "      <td>134450000</td>\n",
       "    </tr>\n",
       "    <tr>\n",
       "      <th>2004-2005</th>\n",
       "      <td>219200000</td>\n",
       "    </tr>\n",
       "  </tbody>\n",
       "</table>\n",
       "</div>"
      ],
      "text/plain": [
       "           Transfer_fee\n",
       "Season                 \n",
       "2000-2001     362270000\n",
       "2001-2002     276680000\n",
       "2002-2003     136370000\n",
       "2003-2004     134450000\n",
       "2004-2005     219200000"
      ]
     },
     "execution_count": 255,
     "metadata": {},
     "output_type": "execute_result"
    }
   ],
   "source": [
    "totfeelaliga = tfLaliga.groupby('Season')[['Transfer_fee']].sum()\n",
    "totfeelaliga.head()"
   ]
  },
  {
   "cell_type": "markdown",
   "metadata": {},
   "source": [
    "Mencari jumlah pemain yang dibeli oleh tim La Liga pada setiap season"
   ]
  },
  {
   "cell_type": "code",
   "execution_count": 256,
   "metadata": {},
   "outputs": [
    {
     "data": {
      "text/html": [
       "<div>\n",
       "<style scoped>\n",
       "    .dataframe tbody tr th:only-of-type {\n",
       "        vertical-align: middle;\n",
       "    }\n",
       "\n",
       "    .dataframe tbody tr th {\n",
       "        vertical-align: top;\n",
       "    }\n",
       "\n",
       "    .dataframe thead th {\n",
       "        text-align: right;\n",
       "    }\n",
       "</style>\n",
       "<table border=\"1\" class=\"dataframe\">\n",
       "  <thead>\n",
       "    <tr style=\"text-align: right;\">\n",
       "      <th></th>\n",
       "      <th>League_to</th>\n",
       "    </tr>\n",
       "    <tr>\n",
       "      <th>Season</th>\n",
       "      <th></th>\n",
       "    </tr>\n",
       "  </thead>\n",
       "  <tbody>\n",
       "    <tr>\n",
       "      <th>2000-2001</th>\n",
       "      <td>33</td>\n",
       "    </tr>\n",
       "    <tr>\n",
       "      <th>2001-2002</th>\n",
       "      <td>22</td>\n",
       "    </tr>\n",
       "    <tr>\n",
       "      <th>2002-2003</th>\n",
       "      <td>16</td>\n",
       "    </tr>\n",
       "    <tr>\n",
       "      <th>2003-2004</th>\n",
       "      <td>17</td>\n",
       "    </tr>\n",
       "    <tr>\n",
       "      <th>2004-2005</th>\n",
       "      <td>29</td>\n",
       "    </tr>\n",
       "  </tbody>\n",
       "</table>\n",
       "</div>"
      ],
      "text/plain": [
       "           League_to\n",
       "Season              \n",
       "2000-2001         33\n",
       "2001-2002         22\n",
       "2002-2003         16\n",
       "2003-2004         17\n",
       "2004-2005         29"
      ]
     },
     "execution_count": 256,
     "metadata": {},
     "output_type": "execute_result"
    }
   ],
   "source": [
    "totplayerlaliga = tfLaliga.groupby('Season')[['League_to']].count()\n",
    "totplayerlaliga.head()"
   ]
  },
  {
   "cell_type": "code",
   "execution_count": 257,
   "metadata": {},
   "outputs": [
    {
     "data": {
      "text/html": [
       "<div>\n",
       "<style scoped>\n",
       "    .dataframe tbody tr th:only-of-type {\n",
       "        vertical-align: middle;\n",
       "    }\n",
       "\n",
       "    .dataframe tbody tr th {\n",
       "        vertical-align: top;\n",
       "    }\n",
       "\n",
       "    .dataframe thead th {\n",
       "        text-align: right;\n",
       "    }\n",
       "</style>\n",
       "<table border=\"1\" class=\"dataframe\">\n",
       "  <thead>\n",
       "    <tr style=\"text-align: right;\">\n",
       "      <th></th>\n",
       "      <th>Total_Fee</th>\n",
       "      <th>Total_Player</th>\n",
       "      <th>Ratio_PlayersVSFee</th>\n",
       "    </tr>\n",
       "    <tr>\n",
       "      <th>Season</th>\n",
       "      <th></th>\n",
       "      <th></th>\n",
       "      <th></th>\n",
       "    </tr>\n",
       "  </thead>\n",
       "  <tbody>\n",
       "    <tr>\n",
       "      <th>2000-2001</th>\n",
       "      <td>362270000</td>\n",
       "      <td>33</td>\n",
       "      <td>1.097788e+07</td>\n",
       "    </tr>\n",
       "    <tr>\n",
       "      <th>2001-2002</th>\n",
       "      <td>276680000</td>\n",
       "      <td>22</td>\n",
       "      <td>1.257636e+07</td>\n",
       "    </tr>\n",
       "    <tr>\n",
       "      <th>2002-2003</th>\n",
       "      <td>136370000</td>\n",
       "      <td>16</td>\n",
       "      <td>8.523125e+06</td>\n",
       "    </tr>\n",
       "    <tr>\n",
       "      <th>2003-2004</th>\n",
       "      <td>134450000</td>\n",
       "      <td>17</td>\n",
       "      <td>7.908824e+06</td>\n",
       "    </tr>\n",
       "    <tr>\n",
       "      <th>2004-2005</th>\n",
       "      <td>219200000</td>\n",
       "      <td>29</td>\n",
       "      <td>7.558621e+06</td>\n",
       "    </tr>\n",
       "  </tbody>\n",
       "</table>\n",
       "</div>"
      ],
      "text/plain": [
       "           Total_Fee  Total_Player  Ratio_PlayersVSFee\n",
       "Season                                                \n",
       "2000-2001  362270000            33        1.097788e+07\n",
       "2001-2002  276680000            22        1.257636e+07\n",
       "2002-2003  136370000            16        8.523125e+06\n",
       "2003-2004  134450000            17        7.908824e+06\n",
       "2004-2005  219200000            29        7.558621e+06"
      ]
     },
     "execution_count": 257,
     "metadata": {},
     "output_type": "execute_result"
    }
   ],
   "source": [
    "laligatf = pd.concat([totfeelaliga, totplayerlaliga], axis=1)\n",
    "laligatf.columns = ['Total_Fee', 'Total_Player']\n",
    "laligatf['Ratio_PlayersVSFee'] = laligatf['Total_Fee']/laligatf['Total_Player']\n",
    "laligatf.head()"
   ]
  },
  {
   "cell_type": "code",
   "execution_count": 258,
   "metadata": {},
   "outputs": [
    {
     "data": {
      "text/plain": [
       "Text(0.5, 1.0, 'Rata-rata Transfer Fee pemain untuk setiap season')"
      ]
     },
     "execution_count": 258,
     "metadata": {},
     "output_type": "execute_result"
    },
    {
     "data": {
      "image/png": "[encoded data removed]",
      "text/plain": [
       "<Figure size 432x288 with 1 Axes>"
      ]
     },
     "metadata": {
      "needs_background": "light"
     },
     "output_type": "display_data"
    }
   ],
   "source": [
    "sns.lineplot(data=laligatf, x =laligatf.index, y = 'Ratio_PlayersVSFee')\n",
    "plt.xticks(rotation = 90)\n",
    "plt.title('Rata-rata Transfer Fee pemain untuk setiap season')"
   ]
  },
  {
   "cell_type": "markdown",
   "metadata": {},
   "source": [
    "### Serie A (Italy)"
   ]
  },
  {
   "cell_type": "markdown",
   "metadata": {},
   "source": [
    "Mencari jumlah dari harga pembelian Serie A setiap season"
   ]
  },
  {
   "cell_type": "code",
   "execution_count": 259,
   "metadata": {},
   "outputs": [
    {
     "data": {
      "text/html": [
       "<div>\n",
       "<style scoped>\n",
       "    .dataframe tbody tr th:only-of-type {\n",
       "        vertical-align: middle;\n",
       "    }\n",
       "\n",
       "    .dataframe tbody tr th {\n",
       "        vertical-align: top;\n",
       "    }\n",
       "\n",
       "    .dataframe thead th {\n",
       "        text-align: right;\n",
       "    }\n",
       "</style>\n",
       "<table border=\"1\" class=\"dataframe\">\n",
       "  <thead>\n",
       "    <tr style=\"text-align: right;\">\n",
       "      <th></th>\n",
       "      <th>Transfer_fee</th>\n",
       "    </tr>\n",
       "    <tr>\n",
       "      <th>Season</th>\n",
       "      <th></th>\n",
       "    </tr>\n",
       "  </thead>\n",
       "  <tbody>\n",
       "    <tr>\n",
       "      <th>2000-2001</th>\n",
       "      <td>479100000</td>\n",
       "    </tr>\n",
       "    <tr>\n",
       "      <th>2001-2002</th>\n",
       "      <td>723340000</td>\n",
       "    </tr>\n",
       "    <tr>\n",
       "      <th>2002-2003</th>\n",
       "      <td>310790000</td>\n",
       "    </tr>\n",
       "    <tr>\n",
       "      <th>2003-2004</th>\n",
       "      <td>157930000</td>\n",
       "    </tr>\n",
       "    <tr>\n",
       "      <th>2004-2005</th>\n",
       "      <td>198350000</td>\n",
       "    </tr>\n",
       "  </tbody>\n",
       "</table>\n",
       "</div>"
      ],
      "text/plain": [
       "           Transfer_fee\n",
       "Season                 \n",
       "2000-2001     479100000\n",
       "2001-2002     723340000\n",
       "2002-2003     310790000\n",
       "2003-2004     157930000\n",
       "2004-2005     198350000"
      ]
     },
     "execution_count": 259,
     "metadata": {},
     "output_type": "execute_result"
    }
   ],
   "source": [
    "totfeeseriea = tfserieA.groupby('Season')[['Transfer_fee']].sum()\n",
    "totfeeseriea.head()"
   ]
  },
  {
   "cell_type": "markdown",
   "metadata": {},
   "source": [
    "Mencari jumlah pemain yang dibeli oleh tim Serie A pada setiap season"
   ]
  },
  {
   "cell_type": "code",
   "execution_count": 260,
   "metadata": {},
   "outputs": [
    {
     "data": {
      "text/html": [
       "<div>\n",
       "<style scoped>\n",
       "    .dataframe tbody tr th:only-of-type {\n",
       "        vertical-align: middle;\n",
       "    }\n",
       "\n",
       "    .dataframe tbody tr th {\n",
       "        vertical-align: top;\n",
       "    }\n",
       "\n",
       "    .dataframe thead th {\n",
       "        text-align: right;\n",
       "    }\n",
       "</style>\n",
       "<table border=\"1\" class=\"dataframe\">\n",
       "  <thead>\n",
       "    <tr style=\"text-align: right;\">\n",
       "      <th></th>\n",
       "      <th>League_to</th>\n",
       "    </tr>\n",
       "    <tr>\n",
       "      <th>Season</th>\n",
       "      <th></th>\n",
       "    </tr>\n",
       "  </thead>\n",
       "  <tbody>\n",
       "    <tr>\n",
       "      <th>2000-2001</th>\n",
       "      <td>38</td>\n",
       "    </tr>\n",
       "    <tr>\n",
       "      <th>2001-2002</th>\n",
       "      <td>47</td>\n",
       "    </tr>\n",
       "    <tr>\n",
       "      <th>2002-2003</th>\n",
       "      <td>31</td>\n",
       "    </tr>\n",
       "    <tr>\n",
       "      <th>2003-2004</th>\n",
       "      <td>23</td>\n",
       "    </tr>\n",
       "    <tr>\n",
       "      <th>2004-2005</th>\n",
       "      <td>24</td>\n",
       "    </tr>\n",
       "  </tbody>\n",
       "</table>\n",
       "</div>"
      ],
      "text/plain": [
       "           League_to\n",
       "Season              \n",
       "2000-2001         38\n",
       "2001-2002         47\n",
       "2002-2003         31\n",
       "2003-2004         23\n",
       "2004-2005         24"
      ]
     },
     "execution_count": 260,
     "metadata": {},
     "output_type": "execute_result"
    }
   ],
   "source": [
    "totplayerseriea = tfserieA.groupby('Season')[['League_to']].count()\n",
    "totplayerseriea.head()"
   ]
  },
  {
   "cell_type": "code",
   "execution_count": 261,
   "metadata": {},
   "outputs": [
    {
     "data": {
      "text/html": [
       "<div>\n",
       "<style scoped>\n",
       "    .dataframe tbody tr th:only-of-type {\n",
       "        vertical-align: middle;\n",
       "    }\n",
       "\n",
       "    .dataframe tbody tr th {\n",
       "        vertical-align: top;\n",
       "    }\n",
       "\n",
       "    .dataframe thead th {\n",
       "        text-align: right;\n",
       "    }\n",
       "</style>\n",
       "<table border=\"1\" class=\"dataframe\">\n",
       "  <thead>\n",
       "    <tr style=\"text-align: right;\">\n",
       "      <th></th>\n",
       "      <th>Total_Fee</th>\n",
       "      <th>Total_Player</th>\n",
       "      <th>Ratio_PlayersVSFee</th>\n",
       "    </tr>\n",
       "    <tr>\n",
       "      <th>Season</th>\n",
       "      <th></th>\n",
       "      <th></th>\n",
       "      <th></th>\n",
       "    </tr>\n",
       "  </thead>\n",
       "  <tbody>\n",
       "    <tr>\n",
       "      <th>2000-2001</th>\n",
       "      <td>479100000</td>\n",
       "      <td>38</td>\n",
       "      <td>1.260789e+07</td>\n",
       "    </tr>\n",
       "    <tr>\n",
       "      <th>2001-2002</th>\n",
       "      <td>723340000</td>\n",
       "      <td>47</td>\n",
       "      <td>1.539021e+07</td>\n",
       "    </tr>\n",
       "    <tr>\n",
       "      <th>2002-2003</th>\n",
       "      <td>310790000</td>\n",
       "      <td>31</td>\n",
       "      <td>1.002548e+07</td>\n",
       "    </tr>\n",
       "    <tr>\n",
       "      <th>2003-2004</th>\n",
       "      <td>157930000</td>\n",
       "      <td>23</td>\n",
       "      <td>6.866522e+06</td>\n",
       "    </tr>\n",
       "    <tr>\n",
       "      <th>2004-2005</th>\n",
       "      <td>198350000</td>\n",
       "      <td>24</td>\n",
       "      <td>8.264583e+06</td>\n",
       "    </tr>\n",
       "  </tbody>\n",
       "</table>\n",
       "</div>"
      ],
      "text/plain": [
       "           Total_Fee  Total_Player  Ratio_PlayersVSFee\n",
       "Season                                                \n",
       "2000-2001  479100000            38        1.260789e+07\n",
       "2001-2002  723340000            47        1.539021e+07\n",
       "2002-2003  310790000            31        1.002548e+07\n",
       "2003-2004  157930000            23        6.866522e+06\n",
       "2004-2005  198350000            24        8.264583e+06"
      ]
     },
     "execution_count": 261,
     "metadata": {},
     "output_type": "execute_result"
    }
   ],
   "source": [
    "serieatf = pd.concat([totfeeseriea, totplayerseriea], axis=1)\n",
    "serieatf.columns = ['Total_Fee', 'Total_Player']\n",
    "serieatf['Ratio_PlayersVSFee'] = serieatf['Total_Fee']/serieatf['Total_Player']\n",
    "serieatf.head()"
   ]
  },
  {
   "cell_type": "code",
   "execution_count": 262,
   "metadata": {},
   "outputs": [
    {
     "data": {
      "text/plain": [
       "Text(0.5, 1.0, 'Rata-rata Transfer Fee pemain untuk setiap season (Serie A)')"
      ]
     },
     "execution_count": 262,
     "metadata": {},
     "output_type": "execute_result"
    },
    {
     "data": {
      "image/png": "[encoded data removed]",
      "text/plain": [
       "<Figure size 432x288 with 1 Axes>"
      ]
     },
     "metadata": {
      "needs_background": "light"
     },
     "output_type": "display_data"
    }
   ],
   "source": [
    "sns.lineplot(data=serieatf, x =serieatf.index, y = 'Ratio_PlayersVSFee')\n",
    "plt.xticks(rotation = 90)\n",
    "plt.title('Rata-rata Transfer Fee pemain untuk setiap season (Serie A)')"
   ]
  },
  {
   "cell_type": "markdown",
   "metadata": {},
   "source": [
    "Dapat dilihat dari grafik rata-rata Transfer Fee setiap liga, perbandingan harga pemain di tahun 2000 dan 2018 berbeda jauh. Pada tahun 2018, harga pemain sudah jauh lebih tinggi daripada tahun 2000. Tetapi ada sedikit hal yang berbeda pada Serie A, dimana harga pemain yang dibeli pada tahun 2000 sudah tinggi, namun mengalami penurunan selama beberapa tahun sampai akhirnya naik dan memiliki harga pemain yang hampir sama pada tahun 2000. dari ketiga grafik tersebut, dapat terlihat bahwa Serie A memiliki rata-rata Transfer_Fee yang paling kecil dimana pembelian yang terjadi pada liga tersebut tidak terlalu mahal."
   ]
  },
  {
   "cell_type": "markdown",
   "metadata": {},
   "source": [
    "### ```3.Pemain termahal yang pernah dibeli oleh klub dari 3 liga teratas selama 2001 sampai 2019```"
   ]
  },
  {
   "cell_type": "markdown",
   "metadata": {},
   "source": [
    "Mencari pembelian termahal Premier League"
   ]
  },
  {
   "cell_type": "code",
   "execution_count": 263,
   "metadata": {},
   "outputs": [
    {
     "data": {
      "text/plain": [
       "Name                  Paul Pogba\n",
       "Position        Central Midfield\n",
       "Age                           23\n",
       "Team_from               Juventus\n",
       "League_from              Serie A\n",
       "Team_to                  Man Utd\n",
       "League_to         Premier League\n",
       "Season                 2016-2017\n",
       "Transfer_fee           105000000\n",
       "Name: 3961, dtype: object"
      ]
     },
     "execution_count": 263,
     "metadata": {},
     "output_type": "execute_result"
    }
   ],
   "source": [
    "maxengland = tfprem.loc[tfprem['Transfer_fee'].idxmax()]\n",
    "maxengland"
   ]
  },
  {
   "cell_type": "markdown",
   "metadata": {},
   "source": [
    "Mencari pembelian termahal Serie A"
   ]
  },
  {
   "cell_type": "code",
   "execution_count": 264,
   "metadata": {},
   "outputs": [
    {
     "data": {
      "text/plain": [
       "Name            Cristiano Ronaldo\n",
       "Position           Centre-Forward\n",
       "Age                            33\n",
       "Team_from             Real Madrid\n",
       "League_from                LaLiga\n",
       "Team_to                  Juventus\n",
       "League_to                 Serie A\n",
       "Season                  2018-2019\n",
       "Transfer_fee            117000000\n",
       "Name: 4456, dtype: object"
      ]
     },
     "execution_count": 264,
     "metadata": {},
     "output_type": "execute_result"
    }
   ],
   "source": [
    "maxitaly =tfserieA.loc[tfserieA['Transfer_fee'].idxmax()]\n",
    "maxitaly"
   ]
  },
  {
   "cell_type": "markdown",
   "metadata": {},
   "source": [
    "Mencari pembelian termahal La Liga"
   ]
  },
  {
   "cell_type": "code",
   "execution_count": 265,
   "metadata": {},
   "outputs": [
    {
     "data": {
      "text/plain": [
       "Name             Philippe Coutinho\n",
       "Position        Attacking Midfield\n",
       "Age                             25\n",
       "Team_from                Liverpool\n",
       "League_from         Premier League\n",
       "Team_to               FC Barcelona\n",
       "League_to                   LaLiga\n",
       "Season                   2017-2018\n",
       "Transfer_fee             125000000\n",
       "Name: 4212, dtype: object"
      ]
     },
     "execution_count": 265,
     "metadata": {},
     "output_type": "execute_result"
    }
   ],
   "source": [
    "maxspain = tfLaliga.loc[tfLaliga['Transfer_fee'].idxmax()]\n",
    "maxspain"
   ]
  },
  {
   "cell_type": "code",
   "execution_count": 266,
   "metadata": {},
   "outputs": [
    {
     "data": {
      "text/html": [
       "<div>\n",
       "<style scoped>\n",
       "    .dataframe tbody tr th:only-of-type {\n",
       "        vertical-align: middle;\n",
       "    }\n",
       "\n",
       "    .dataframe tbody tr th {\n",
       "        vertical-align: top;\n",
       "    }\n",
       "\n",
       "    .dataframe thead th {\n",
       "        text-align: right;\n",
       "    }\n",
       "</style>\n",
       "<table border=\"1\" class=\"dataframe\">\n",
       "  <thead>\n",
       "    <tr style=\"text-align: right;\">\n",
       "      <th></th>\n",
       "      <th>index</th>\n",
       "      <th>Name</th>\n",
       "      <th>Position</th>\n",
       "      <th>Age</th>\n",
       "      <th>Team_from</th>\n",
       "      <th>League_from</th>\n",
       "      <th>Team_to</th>\n",
       "      <th>League_to</th>\n",
       "      <th>Season</th>\n",
       "      <th>Transfer_fee</th>\n",
       "    </tr>\n",
       "  </thead>\n",
       "  <tbody>\n",
       "    <tr>\n",
       "      <th>0</th>\n",
       "      <td>3961</td>\n",
       "      <td>Paul Pogba</td>\n",
       "      <td>Central Midfield</td>\n",
       "      <td>23</td>\n",
       "      <td>Juventus</td>\n",
       "      <td>Serie A</td>\n",
       "      <td>Man Utd</td>\n",
       "      <td>Premier League</td>\n",
       "      <td>2016-2017</td>\n",
       "      <td>105000000</td>\n",
       "    </tr>\n",
       "    <tr>\n",
       "      <th>1</th>\n",
       "      <td>4212</td>\n",
       "      <td>Philippe Coutinho</td>\n",
       "      <td>Attacking Midfield</td>\n",
       "      <td>25</td>\n",
       "      <td>Liverpool</td>\n",
       "      <td>Premier League</td>\n",
       "      <td>FC Barcelona</td>\n",
       "      <td>LaLiga</td>\n",
       "      <td>2017-2018</td>\n",
       "      <td>125000000</td>\n",
       "    </tr>\n",
       "    <tr>\n",
       "      <th>2</th>\n",
       "      <td>4456</td>\n",
       "      <td>Cristiano Ronaldo</td>\n",
       "      <td>Centre-Forward</td>\n",
       "      <td>33</td>\n",
       "      <td>Real Madrid</td>\n",
       "      <td>LaLiga</td>\n",
       "      <td>Juventus</td>\n",
       "      <td>Serie A</td>\n",
       "      <td>2018-2019</td>\n",
       "      <td>117000000</td>\n",
       "    </tr>\n",
       "  </tbody>\n",
       "</table>\n",
       "</div>"
      ],
      "text/plain": [
       "   index               Name            Position Age    Team_from  \\\n",
       "0   3961         Paul Pogba    Central Midfield  23     Juventus   \n",
       "1   4212  Philippe Coutinho  Attacking Midfield  25    Liverpool   \n",
       "2   4456  Cristiano Ronaldo      Centre-Forward  33  Real Madrid   \n",
       "\n",
       "      League_from       Team_to       League_to     Season Transfer_fee  \n",
       "0         Serie A       Man Utd  Premier League  2016-2017    105000000  \n",
       "1  Premier League  FC Barcelona          LaLiga  2017-2018    125000000  \n",
       "2          LaLiga      Juventus         Serie A  2018-2019    117000000  "
      ]
     },
     "execution_count": 266,
     "metadata": {},
     "output_type": "execute_result"
    }
   ],
   "source": [
    "mostplayer = pd.concat([maxengland, maxspain, maxitaly], axis=1)\n",
    "mostplayer = mostplayer.T.reset_index()\n",
    "mostplayer"
   ]
  },
  {
   "cell_type": "code",
   "execution_count": 267,
   "metadata": {},
   "outputs": [
    {
     "data": {
      "text/plain": [
       "<matplotlib.axes._subplots.AxesSubplot at 0x24ec9ead2c8>"
      ]
     },
     "execution_count": 267,
     "metadata": {},
     "output_type": "execute_result"
    },
    {
     "data": {
      "image/png": "[encoded data removed]",
      "text/plain": [
       "<Figure size 432x288 with 1 Axes>"
      ]
     },
     "metadata": {
      "needs_background": "light"
     },
     "output_type": "display_data"
    }
   ],
   "source": [
    "sns.barplot(data=mostplayer, x='Name', y='Transfer_fee', hue='League_to')"
   ]
  },
  {
   "cell_type": "markdown",
   "metadata": {},
   "source": [
    "Jika dilihat dari ketiga liga, pembelian termahal pemain terjadi pada 3 season terakhir (2016,2017,2018). Pemain tersebut dibeli diatas harga 100 juta Euro. Dari analisa tersebut, dapat disimpulkan bahwa setiap tahun pasar harga pemain pada Transfer Window semakin naik dan pembelian pemain sepakbola yang memiliki kualitas bermain sangat bagus sudah mencapai nilai diatas 100 juta Euro."
   ]
  },
  {
   "cell_type": "markdown",
   "metadata": {},
   "source": [
    "### ```4. Team yang paling banyak melakukan pembelian pemain```"
   ]
  },
  {
   "cell_type": "code",
   "execution_count": 268,
   "metadata": {},
   "outputs": [
    {
     "data": {
      "text/html": [
       "<div>\n",
       "<style scoped>\n",
       "    .dataframe tbody tr th:only-of-type {\n",
       "        vertical-align: middle;\n",
       "    }\n",
       "\n",
       "    .dataframe tbody tr th {\n",
       "        vertical-align: top;\n",
       "    }\n",
       "\n",
       "    .dataframe thead th {\n",
       "        text-align: right;\n",
       "    }\n",
       "</style>\n",
       "<table border=\"1\" class=\"dataframe\">\n",
       "  <thead>\n",
       "    <tr style=\"text-align: right;\">\n",
       "      <th></th>\n",
       "      <th>Team_to</th>\n",
       "      <th>League_to</th>\n",
       "    </tr>\n",
       "  </thead>\n",
       "  <tbody>\n",
       "    <tr>\n",
       "      <th>0</th>\n",
       "      <td>Inter</td>\n",
       "      <td>97</td>\n",
       "    </tr>\n",
       "    <tr>\n",
       "      <th>1</th>\n",
       "      <td>Chelsea</td>\n",
       "      <td>96</td>\n",
       "    </tr>\n",
       "    <tr>\n",
       "      <th>2</th>\n",
       "      <td>Spurs</td>\n",
       "      <td>93</td>\n",
       "    </tr>\n",
       "    <tr>\n",
       "      <th>3</th>\n",
       "      <td>Man City</td>\n",
       "      <td>89</td>\n",
       "    </tr>\n",
       "    <tr>\n",
       "      <th>4</th>\n",
       "      <td>Juventus</td>\n",
       "      <td>86</td>\n",
       "    </tr>\n",
       "    <tr>\n",
       "      <th>5</th>\n",
       "      <td>Liverpool</td>\n",
       "      <td>85</td>\n",
       "    </tr>\n",
       "    <tr>\n",
       "      <th>6</th>\n",
       "      <td>AS Roma</td>\n",
       "      <td>77</td>\n",
       "    </tr>\n",
       "    <tr>\n",
       "      <th>7</th>\n",
       "      <td>Real Madrid</td>\n",
       "      <td>75</td>\n",
       "    </tr>\n",
       "    <tr>\n",
       "      <th>8</th>\n",
       "      <td>FC Barcelona</td>\n",
       "      <td>70</td>\n",
       "    </tr>\n",
       "    <tr>\n",
       "      <th>9</th>\n",
       "      <td>Atlético Madrid</td>\n",
       "      <td>69</td>\n",
       "    </tr>\n",
       "    <tr>\n",
       "      <th>10</th>\n",
       "      <td>AC Milan</td>\n",
       "      <td>68</td>\n",
       "    </tr>\n",
       "    <tr>\n",
       "      <th>11</th>\n",
       "      <td>Man Utd</td>\n",
       "      <td>65</td>\n",
       "    </tr>\n",
       "    <tr>\n",
       "      <th>12</th>\n",
       "      <td>Everton</td>\n",
       "      <td>63</td>\n",
       "    </tr>\n",
       "    <tr>\n",
       "      <th>13</th>\n",
       "      <td>Arsenal</td>\n",
       "      <td>61</td>\n",
       "    </tr>\n",
       "    <tr>\n",
       "      <th>14</th>\n",
       "      <td>Newcastle</td>\n",
       "      <td>57</td>\n",
       "    </tr>\n",
       "  </tbody>\n",
       "</table>\n",
       "</div>"
      ],
      "text/plain": [
       "            Team_to  League_to\n",
       "0             Inter         97\n",
       "1           Chelsea         96\n",
       "2             Spurs         93\n",
       "3          Man City         89\n",
       "4          Juventus         86\n",
       "5         Liverpool         85\n",
       "6           AS Roma         77\n",
       "7       Real Madrid         75\n",
       "8      FC Barcelona         70\n",
       "9   Atlético Madrid         69\n",
       "10         AC Milan         68\n",
       "11          Man Utd         65\n",
       "12          Everton         63\n",
       "13          Arsenal         61\n",
       "14        Newcastle         57"
      ]
     },
     "execution_count": 268,
     "metadata": {},
     "output_type": "execute_result"
    }
   ],
   "source": [
    "topteam = tf.groupby('Team_to')[['League_to']].count().sort_values('League_to', ascending=False)\n",
    "topteam = topteam.reset_index().head(15)\n",
    "topteam"
   ]
  },
  {
   "cell_type": "code",
   "execution_count": 269,
   "metadata": {},
   "outputs": [
    {
     "data": {
      "text/plain": [
       "<matplotlib.axes._subplots.AxesSubplot at 0x24ec97a43c8>"
      ]
     },
     "execution_count": 269,
     "metadata": {},
     "output_type": "execute_result"
    },
    {
     "data": {
      "image/png": "[encoded data removed]",
      "text/plain": [
       "<Figure size 576x288 with 1 Axes>"
      ]
     },
     "metadata": {
      "needs_background": "light"
     },
     "output_type": "display_data"
    }
   ],
   "source": [
    "topteam.plot(kind='barh', x = 'Team_to', y = 'League_to', title = 'Most Buying Team', color = 'orange', figsize=(8,4))"
   ]
  },
  {
   "cell_type": "markdown",
   "metadata": {},
   "source": [
    "dapat dilihat dari ketiga liga tersbut, tim yang paling banyak membeli pemain dari 2000 sampai 2018 adalah klub dari Serie A (Italy). Namun dari total 15 tim, sebanyak 8 tim berasal dari Premier League (Inggris). Sedangkan 7 tim lainnya dibagi menjadi 4 tim dari Serie A (Italy) dan 3 tim dari La Liga (Spain). Dapat disimpulkan bahwa Premier League adalah liga yang paling banyak melakukan aktivitas pembelian pemain."
   ]
  },
  {
   "cell_type": "markdown",
   "metadata": {},
   "source": [
    "### ```5. Rata-rata dari total pembelian pemain pada bursa transfer 2000 sampai 2018 dan rata-rata umur pemain yang dibeli```\n"
   ]
  },
  {
   "cell_type": "code",
   "execution_count": 270,
   "metadata": {},
   "outputs": [
    {
     "name": "stdout",
     "output_type": "stream",
     "text": [
      "Central Tendency\n",
      "Max : 125000000\n",
      "Mode : 5000000\n",
      "Median : 8000000.0\n",
      "Mean : 11472611.111111112\n",
      "Min : 900000\n"
     ]
    }
   ],
   "source": [
    "print('Central Tendency')\n",
    "print(\"Max : \" +str(tf['Transfer_fee'].max()))\n",
    "print(\"Mode : \" +str(tf['Transfer_fee'].mode()[0]))\n",
    "print(\"Median : \" +str(tf['Transfer_fee'].median()))\n",
    "print(\"Mean : \" +str(tf['Transfer_fee'].mean()))\n",
    "print(\"Min : \" +str(tf['Transfer_fee'].min()))"
   ]
  },
  {
   "cell_type": "code",
   "execution_count": 271,
   "metadata": {},
   "outputs": [
    {
     "name": "stdout",
     "output_type": "stream",
     "text": [
      "Central Tendency\n",
      "Max : 35\n",
      "Mode : 24\n",
      "Median : 24.0\n",
      "Mean : 24.442063492063493\n",
      "Min : 16\n"
     ]
    }
   ],
   "source": [
    "print('Central Tendency')\n",
    "print(\"Max : \" +str(tf['Age'].max()))\n",
    "print(\"Mode : \" +str(tf['Age'].mode()[0]))\n",
    "print(\"Median : \" +str(tf['Age'].median()))\n",
    "print(\"Mean : \" +str(tf['Age'].mean()))\n",
    "print(\"Min : \" +str(tf['Age'].min()))"
   ]
  },
  {
   "cell_type": "code",
   "execution_count": 272,
   "metadata": {},
   "outputs": [],
   "source": [
    "numcolumn=['Transfer_fee', 'Age']\n"
   ]
  },
  {
   "cell_type": "code",
   "execution_count": 273,
   "metadata": {},
   "outputs": [
    {
     "data": {
      "image/png": "[encoded data removed]",
      "text/plain": [
       "<Figure size 1152x576 with 2 Axes>"
      ]
     },
     "metadata": {
      "needs_background": "light"
     },
     "output_type": "display_data"
    }
   ],
   "source": [
    "fig, axes = plt.subplots(2, 1, figsize=(16, 8))\n",
    "for c, ax in zip(numcolumn, axes):\n",
    "    tf[[c]].plot(kind='hist', ax=ax)\n",
    "    mean = tf[c].mean()\n",
    "    median = tf[c].median()\n",
    "    mode = tf[c].mode()[0]\n",
    "    ax.axvline(mean, color='blue', linewidth=2, label=f'Mean');\n",
    "    ax.axvline(median, color='red', linewidth=2, label=f'median');\n",
    "    ax.axvline(mode, color='green', linewidth=2, label=f'mode');\n",
    "    ax.set_title(f'Distribution of {c}')\n",
    "    ax.legend();\n",
    "\n",
    "plt.tight_layout()"
   ]
  },
  {
   "cell_type": "markdown",
   "metadata": {},
   "source": [
    "Berdasarkan hasil perhitungan Central Tendency, \n",
    "- Pembelian\n",
    "\n",
    "dapat dilihat bahwa pemain termurah yang pernah dibeli seharga 900.000 Euro dan pemain termahal seharga 125 Juta Euro. Rata-rata harga pemain secara keseluruhan adalah sekitar 11 juta euro. Dari hasil Central Tendency kita juga dapat melihat bahwa pemain dengan harga 5 juta euro adalah pemain yang terbanyak\n",
    "\n",
    "- Umur\n",
    "\n",
    "Dapat dilihat bahwa pemain termuda yang pernah dibeli berumur 16 tahun dan pemain tertua berumur 35 tahun. Rata-rata umur pemain yang dibeli adalah 24 tahun. Pemain yang paling banyak dibeli biasanya juga berumur 24 tahun.\n",
    "\n"
   ]
  },
  {
   "cell_type": "markdown",
   "metadata": {},
   "source": [
    "### ```6. Apakah perbedaan rata-rata pengeluaran antara 3 klub teratas pada masing-masing liga signifikan?```\n",
    "### Pembuktian dilakukan dengan Statistik Inferensial\n",
    "#### (ANOVA)\n",
    "Saya ingin mengetahuin apakah perbedaan rata-rata pengeleuaran antara 3 klub tersebut memiliki perbedaan yang signifikan. Untuk pembuktiannya bisa dilakukan dengan uji hipotesis dengan metode ANOVA\n",
    "\n",
    "```H(0): Chelsea = Real Madrid = Inter Milan``` \n",
    "- Perbedaan rata rata pengeluaran 3 klub teratas pada masing-masing liga tidak signifikan\n",
    "\n",
    "```H(1): Chelsea != Real Madrid != Inter Milan```\n",
    "- Perbedaan rata rata pengeluaran 3 klub teratas pada masing-masing liga signifikan\n"
   ]
  },
  {
   "cell_type": "code",
   "execution_count": 274,
   "metadata": {},
   "outputs": [],
   "source": [
    "chelsea = tfprem.query('Team_to == \"Chelsea\"')\n",
    "inter = tfserieA.query('Team_to == \"Inter\"')\n",
    "Madrid = tfLaliga.query('Team_to == \"Real Madrid\"')"
   ]
  },
  {
   "cell_type": "code",
   "execution_count": 275,
   "metadata": {},
   "outputs": [
    {
     "name": "stdout",
     "output_type": "stream",
     "text": [
      "Season Average of Chelsea 101147222.22222222\n",
      "Season Average of Madrid 88455263.15789473\n",
      "Season Average of Inter 63299473.684210524\n"
     ]
    }
   ],
   "source": [
    "chelseaquantity = chelsea.groupby('Season').sum()['Transfer_fee']\n",
    "madridquantity = Madrid.groupby('Season').sum()['Transfer_fee']\n",
    "interquantity = inter.groupby('Season').sum()['Transfer_fee']\n",
    "\n",
    "\n",
    "print(\"Season Average of Chelsea\",chelseaquantity.mean())\n",
    "print(\"Season Average of Madrid\",madridquantity.mean())\n",
    "print(\"Season Average of Inter\",interquantity.mean())"
   ]
  },
  {
   "cell_type": "code",
   "execution_count": 276,
   "metadata": {},
   "outputs": [
    {
     "name": "stdout",
     "output_type": "stream",
     "text": [
      "P-value: 0.07852991356377452\n"
     ]
    }
   ],
   "source": [
    "f_stat,p_value = stats.f_oneway(chelseaquantity, madridquantity, interquantity)\n",
    "print('P-value:',p_value)"
   ]
  },
  {
   "cell_type": "code",
   "execution_count": 277,
   "metadata": {},
   "outputs": [
    {
     "data": {
      "text/html": [
       "<div>\n",
       "<style scoped>\n",
       "    .dataframe tbody tr th:only-of-type {\n",
       "        vertical-align: middle;\n",
       "    }\n",
       "\n",
       "    .dataframe tbody tr th {\n",
       "        vertical-align: top;\n",
       "    }\n",
       "\n",
       "    .dataframe thead th {\n",
       "        text-align: right;\n",
       "    }\n",
       "</style>\n",
       "<table border=\"1\" class=\"dataframe\">\n",
       "  <thead>\n",
       "    <tr style=\"text-align: right;\">\n",
       "      <th></th>\n",
       "      <th>index</th>\n",
       "      <th>variable</th>\n",
       "      <th>value</th>\n",
       "    </tr>\n",
       "  </thead>\n",
       "  <tbody>\n",
       "    <tr>\n",
       "      <th>0</th>\n",
       "      <td>2000-2001</td>\n",
       "      <td>Chelsea</td>\n",
       "      <td>52150000.0</td>\n",
       "    </tr>\n",
       "    <tr>\n",
       "      <th>1</th>\n",
       "      <td>2001-2002</td>\n",
       "      <td>Chelsea</td>\n",
       "      <td>44800000.0</td>\n",
       "    </tr>\n",
       "    <tr>\n",
       "      <th>2</th>\n",
       "      <td>2003-2004</td>\n",
       "      <td>Chelsea</td>\n",
       "      <td>169200000.0</td>\n",
       "    </tr>\n",
       "    <tr>\n",
       "      <th>3</th>\n",
       "      <td>2004-2005</td>\n",
       "      <td>Chelsea</td>\n",
       "      <td>165500000.0</td>\n",
       "    </tr>\n",
       "    <tr>\n",
       "      <th>4</th>\n",
       "      <td>2005-2006</td>\n",
       "      <td>Chelsea</td>\n",
       "      <td>91200000.0</td>\n",
       "    </tr>\n",
       "    <tr>\n",
       "      <th>5</th>\n",
       "      <td>2006-2007</td>\n",
       "      <td>Chelsea</td>\n",
       "      <td>87900000.0</td>\n",
       "    </tr>\n",
       "    <tr>\n",
       "      <th>6</th>\n",
       "      <td>2007-2008</td>\n",
       "      <td>Chelsea</td>\n",
       "      <td>59000000.0</td>\n",
       "    </tr>\n",
       "    <tr>\n",
       "      <th>7</th>\n",
       "      <td>2008-2009</td>\n",
       "      <td>Chelsea</td>\n",
       "      <td>30500000.0</td>\n",
       "    </tr>\n",
       "    <tr>\n",
       "      <th>8</th>\n",
       "      <td>2009-2010</td>\n",
       "      <td>Chelsea</td>\n",
       "      <td>28250000.0</td>\n",
       "    </tr>\n",
       "    <tr>\n",
       "      <th>9</th>\n",
       "      <td>2010-2011</td>\n",
       "      <td>Chelsea</td>\n",
       "      <td>118500000.0</td>\n",
       "    </tr>\n",
       "    <tr>\n",
       "      <th>10</th>\n",
       "      <td>2011-2012</td>\n",
       "      <td>Chelsea</td>\n",
       "      <td>92650000.0</td>\n",
       "    </tr>\n",
       "    <tr>\n",
       "      <th>11</th>\n",
       "      <td>2012-2013</td>\n",
       "      <td>Chelsea</td>\n",
       "      <td>109200000.0</td>\n",
       "    </tr>\n",
       "    <tr>\n",
       "      <th>12</th>\n",
       "      <td>2013-2014</td>\n",
       "      <td>Chelsea</td>\n",
       "      <td>123000000.0</td>\n",
       "    </tr>\n",
       "    <tr>\n",
       "      <th>13</th>\n",
       "      <td>2014-2015</td>\n",
       "      <td>Chelsea</td>\n",
       "      <td>135200000.0</td>\n",
       "    </tr>\n",
       "    <tr>\n",
       "      <th>14</th>\n",
       "      <td>2015-2016</td>\n",
       "      <td>Chelsea</td>\n",
       "      <td>66000000.0</td>\n",
       "    </tr>\n",
       "    <tr>\n",
       "      <th>15</th>\n",
       "      <td>2016-2017</td>\n",
       "      <td>Chelsea</td>\n",
       "      <td>132800000.0</td>\n",
       "    </tr>\n",
       "    <tr>\n",
       "      <th>16</th>\n",
       "      <td>2017-2018</td>\n",
       "      <td>Chelsea</td>\n",
       "      <td>257800000.0</td>\n",
       "    </tr>\n",
       "    <tr>\n",
       "      <th>17</th>\n",
       "      <td>2018-2019</td>\n",
       "      <td>Chelsea</td>\n",
       "      <td>57000000.0</td>\n",
       "    </tr>\n",
       "    <tr>\n",
       "      <th>18</th>\n",
       "      <td>2002-2003</td>\n",
       "      <td>Chelsea</td>\n",
       "      <td>NaN</td>\n",
       "    </tr>\n",
       "    <tr>\n",
       "      <th>19</th>\n",
       "      <td>2000-2001</td>\n",
       "      <td>Inter Milan</td>\n",
       "      <td>62250000.0</td>\n",
       "    </tr>\n",
       "    <tr>\n",
       "      <th>20</th>\n",
       "      <td>2001-2002</td>\n",
       "      <td>Inter Milan</td>\n",
       "      <td>108190000.0</td>\n",
       "    </tr>\n",
       "    <tr>\n",
       "      <th>21</th>\n",
       "      <td>2003-2004</td>\n",
       "      <td>Inter Milan</td>\n",
       "      <td>59700000.0</td>\n",
       "    </tr>\n",
       "    <tr>\n",
       "      <th>22</th>\n",
       "      <td>2004-2005</td>\n",
       "      <td>Inter Milan</td>\n",
       "      <td>5950000.0</td>\n",
       "    </tr>\n",
       "    <tr>\n",
       "      <th>23</th>\n",
       "      <td>2005-2006</td>\n",
       "      <td>Inter Milan</td>\n",
       "      <td>30000000.0</td>\n",
       "    </tr>\n",
       "    <tr>\n",
       "      <th>24</th>\n",
       "      <td>2006-2007</td>\n",
       "      <td>Inter Milan</td>\n",
       "      <td>46600000.0</td>\n",
       "    </tr>\n",
       "    <tr>\n",
       "      <th>25</th>\n",
       "      <td>2007-2008</td>\n",
       "      <td>Inter Milan</td>\n",
       "      <td>36500000.0</td>\n",
       "    </tr>\n",
       "    <tr>\n",
       "      <th>26</th>\n",
       "      <td>2008-2009</td>\n",
       "      <td>Inter Milan</td>\n",
       "      <td>61700000.0</td>\n",
       "    </tr>\n",
       "    <tr>\n",
       "      <th>27</th>\n",
       "      <td>2009-2010</td>\n",
       "      <td>Inter Milan</td>\n",
       "      <td>94200000.0</td>\n",
       "    </tr>\n",
       "    <tr>\n",
       "      <th>28</th>\n",
       "      <td>2010-2011</td>\n",
       "      <td>Inter Milan</td>\n",
       "      <td>40700000.0</td>\n",
       "    </tr>\n",
       "    <tr>\n",
       "      <th>29</th>\n",
       "      <td>2011-2012</td>\n",
       "      <td>Inter Milan</td>\n",
       "      <td>32900000.0</td>\n",
       "    </tr>\n",
       "    <tr>\n",
       "      <th>30</th>\n",
       "      <td>2012-2013</td>\n",
       "      <td>Inter Milan</td>\n",
       "      <td>67800000.0</td>\n",
       "    </tr>\n",
       "    <tr>\n",
       "      <th>31</th>\n",
       "      <td>2013-2014</td>\n",
       "      <td>Inter Milan</td>\n",
       "      <td>50250000.0</td>\n",
       "    </tr>\n",
       "    <tr>\n",
       "      <th>32</th>\n",
       "      <td>2014-2015</td>\n",
       "      <td>Inter Milan</td>\n",
       "      <td>8000000.0</td>\n",
       "    </tr>\n",
       "    <tr>\n",
       "      <th>33</th>\n",
       "      <td>2015-2016</td>\n",
       "      <td>Inter Milan</td>\n",
       "      <td>78000000.0</td>\n",
       "    </tr>\n",
       "    <tr>\n",
       "      <th>34</th>\n",
       "      <td>2016-2017</td>\n",
       "      <td>Inter Milan</td>\n",
       "      <td>150350000.0</td>\n",
       "    </tr>\n",
       "    <tr>\n",
       "      <th>35</th>\n",
       "      <td>2017-2018</td>\n",
       "      <td>Inter Milan</td>\n",
       "      <td>99000000.0</td>\n",
       "    </tr>\n",
       "    <tr>\n",
       "      <th>36</th>\n",
       "      <td>2018-2019</td>\n",
       "      <td>Inter Milan</td>\n",
       "      <td>61000000.0</td>\n",
       "    </tr>\n",
       "    <tr>\n",
       "      <th>37</th>\n",
       "      <td>2002-2003</td>\n",
       "      <td>Inter Milan</td>\n",
       "      <td>109600000.0</td>\n",
       "    </tr>\n",
       "    <tr>\n",
       "      <th>38</th>\n",
       "      <td>2000-2001</td>\n",
       "      <td>Real Madrid</td>\n",
       "      <td>119250000.0</td>\n",
       "    </tr>\n",
       "    <tr>\n",
       "      <th>39</th>\n",
       "      <td>2001-2002</td>\n",
       "      <td>Real Madrid</td>\n",
       "      <td>77500000.0</td>\n",
       "    </tr>\n",
       "    <tr>\n",
       "      <th>40</th>\n",
       "      <td>2003-2004</td>\n",
       "      <td>Real Madrid</td>\n",
       "      <td>37500000.0</td>\n",
       "    </tr>\n",
       "    <tr>\n",
       "      <th>41</th>\n",
       "      <td>2004-2005</td>\n",
       "      <td>Real Madrid</td>\n",
       "      <td>58700000.0</td>\n",
       "    </tr>\n",
       "    <tr>\n",
       "      <th>42</th>\n",
       "      <td>2005-2006</td>\n",
       "      <td>Real Madrid</td>\n",
       "      <td>89500000.0</td>\n",
       "    </tr>\n",
       "    <tr>\n",
       "      <th>43</th>\n",
       "      <td>2006-2007</td>\n",
       "      <td>Real Madrid</td>\n",
       "      <td>103000000.0</td>\n",
       "    </tr>\n",
       "    <tr>\n",
       "      <th>44</th>\n",
       "      <td>2007-2008</td>\n",
       "      <td>Real Madrid</td>\n",
       "      <td>118000000.0</td>\n",
       "    </tr>\n",
       "    <tr>\n",
       "      <th>45</th>\n",
       "      <td>2008-2009</td>\n",
       "      <td>Real Madrid</td>\n",
       "      <td>80700000.0</td>\n",
       "    </tr>\n",
       "    <tr>\n",
       "      <th>46</th>\n",
       "      <td>2009-2010</td>\n",
       "      <td>Real Madrid</td>\n",
       "      <td>256500000.0</td>\n",
       "    </tr>\n",
       "    <tr>\n",
       "      <th>47</th>\n",
       "      <td>2010-2011</td>\n",
       "      <td>Real Madrid</td>\n",
       "      <td>89000000.0</td>\n",
       "    </tr>\n",
       "    <tr>\n",
       "      <th>48</th>\n",
       "      <td>2011-2012</td>\n",
       "      <td>Real Madrid</td>\n",
       "      <td>55000000.0</td>\n",
       "    </tr>\n",
       "    <tr>\n",
       "      <th>49</th>\n",
       "      <td>2012-2013</td>\n",
       "      <td>Real Madrid</td>\n",
       "      <td>30000000.0</td>\n",
       "    </tr>\n",
       "    <tr>\n",
       "      <th>50</th>\n",
       "      <td>2013-2014</td>\n",
       "      <td>Real Madrid</td>\n",
       "      <td>175500000.0</td>\n",
       "    </tr>\n",
       "    <tr>\n",
       "      <th>51</th>\n",
       "      <td>2014-2015</td>\n",
       "      <td>Real Madrid</td>\n",
       "      <td>123000000.0</td>\n",
       "    </tr>\n",
       "    <tr>\n",
       "      <th>52</th>\n",
       "      <td>2015-2016</td>\n",
       "      <td>Real Madrid</td>\n",
       "      <td>68500000.0</td>\n",
       "    </tr>\n",
       "    <tr>\n",
       "      <th>53</th>\n",
       "      <td>2016-2017</td>\n",
       "      <td>Real Madrid</td>\n",
       "      <td>30000000.0</td>\n",
       "    </tr>\n",
       "    <tr>\n",
       "      <th>54</th>\n",
       "      <td>2017-2018</td>\n",
       "      <td>Real Madrid</td>\n",
       "      <td>40500000.0</td>\n",
       "    </tr>\n",
       "    <tr>\n",
       "      <th>55</th>\n",
       "      <td>2018-2019</td>\n",
       "      <td>Real Madrid</td>\n",
       "      <td>83500000.0</td>\n",
       "    </tr>\n",
       "    <tr>\n",
       "      <th>56</th>\n",
       "      <td>2002-2003</td>\n",
       "      <td>Real Madrid</td>\n",
       "      <td>45000000.0</td>\n",
       "    </tr>\n",
       "  </tbody>\n",
       "</table>\n",
       "</div>"
      ],
      "text/plain": [
       "        index     variable        value\n",
       "0   2000-2001      Chelsea   52150000.0\n",
       "1   2001-2002      Chelsea   44800000.0\n",
       "2   2003-2004      Chelsea  169200000.0\n",
       "3   2004-2005      Chelsea  165500000.0\n",
       "4   2005-2006      Chelsea   91200000.0\n",
       "5   2006-2007      Chelsea   87900000.0\n",
       "6   2007-2008      Chelsea   59000000.0\n",
       "7   2008-2009      Chelsea   30500000.0\n",
       "8   2009-2010      Chelsea   28250000.0\n",
       "9   2010-2011      Chelsea  118500000.0\n",
       "10  2011-2012      Chelsea   92650000.0\n",
       "11  2012-2013      Chelsea  109200000.0\n",
       "12  2013-2014      Chelsea  123000000.0\n",
       "13  2014-2015      Chelsea  135200000.0\n",
       "14  2015-2016      Chelsea   66000000.0\n",
       "15  2016-2017      Chelsea  132800000.0\n",
       "16  2017-2018      Chelsea  257800000.0\n",
       "17  2018-2019      Chelsea   57000000.0\n",
       "18  2002-2003      Chelsea          NaN\n",
       "19  2000-2001  Inter Milan   62250000.0\n",
       "20  2001-2002  Inter Milan  108190000.0\n",
       "21  2003-2004  Inter Milan   59700000.0\n",
       "22  2004-2005  Inter Milan    5950000.0\n",
       "23  2005-2006  Inter Milan   30000000.0\n",
       "24  2006-2007  Inter Milan   46600000.0\n",
       "25  2007-2008  Inter Milan   36500000.0\n",
       "26  2008-2009  Inter Milan   61700000.0\n",
       "27  2009-2010  Inter Milan   94200000.0\n",
       "28  2010-2011  Inter Milan   40700000.0\n",
       "29  2011-2012  Inter Milan   32900000.0\n",
       "30  2012-2013  Inter Milan   67800000.0\n",
       "31  2013-2014  Inter Milan   50250000.0\n",
       "32  2014-2015  Inter Milan    8000000.0\n",
       "33  2015-2016  Inter Milan   78000000.0\n",
       "34  2016-2017  Inter Milan  150350000.0\n",
       "35  2017-2018  Inter Milan   99000000.0\n",
       "36  2018-2019  Inter Milan   61000000.0\n",
       "37  2002-2003  Inter Milan  109600000.0\n",
       "38  2000-2001  Real Madrid  119250000.0\n",
       "39  2001-2002  Real Madrid   77500000.0\n",
       "40  2003-2004  Real Madrid   37500000.0\n",
       "41  2004-2005  Real Madrid   58700000.0\n",
       "42  2005-2006  Real Madrid   89500000.0\n",
       "43  2006-2007  Real Madrid  103000000.0\n",
       "44  2007-2008  Real Madrid  118000000.0\n",
       "45  2008-2009  Real Madrid   80700000.0\n",
       "46  2009-2010  Real Madrid  256500000.0\n",
       "47  2010-2011  Real Madrid   89000000.0\n",
       "48  2011-2012  Real Madrid   55000000.0\n",
       "49  2012-2013  Real Madrid   30000000.0\n",
       "50  2013-2014  Real Madrid  175500000.0\n",
       "51  2014-2015  Real Madrid  123000000.0\n",
       "52  2015-2016  Real Madrid   68500000.0\n",
       "53  2016-2017  Real Madrid   30000000.0\n",
       "54  2017-2018  Real Madrid   40500000.0\n",
       "55  2018-2019  Real Madrid   83500000.0\n",
       "56  2002-2003  Real Madrid   45000000.0"
      ]
     },
     "execution_count": 277,
     "metadata": {},
     "output_type": "execute_result"
    }
   ],
   "source": [
    "top3club = pd.concat([chelseaquantity,interquantity,madridquantity], axis=1)\n",
    "\n",
    "top3club.columns = ['Chelsea','Inter Milan','Real Madrid']\n",
    "\n",
    "top3club\n",
    "\n",
    "top3club = top3club.reset_index()\n",
    "\n",
    "top3club = pd.melt(top3club, id_vars = ['index'], value_vars = ['Chelsea','Inter Milan', 'Real Madrid'] )\n",
    "top3club"
   ]
  },
  {
   "cell_type": "code",
   "execution_count": 278,
   "metadata": {},
   "outputs": [
    {
     "data": {
      "text/plain": [
       "<matplotlib.axes._subplots.AxesSubplot at 0x24ec443ccc8>"
      ]
     },
     "execution_count": 278,
     "metadata": {},
     "output_type": "execute_result"
    },
    {
     "data": {
      "image/png": "[encoded data removed]",
      "text/plain": [
       "<Figure size 432x288 with 1 Axes>"
      ]
     },
     "metadata": {
      "needs_background": "light"
     },
     "output_type": "display_data"
    }
   ],
   "source": [
    "sns.boxplot(data = top3club, x ='variable', y='value',showmeans = True)"
   ]
  },
  {
   "cell_type": "markdown",
   "metadata": {},
   "source": [
    "Dari hasil hipotesis testing dengan metode ANOVA didapatkan p-value lebih dari 0.05 yang berarti hipotesis awal(H0) fail to reject. Antara Chelsea,Real Madrid, dan Inter Milan, rata-rata yang pengeluaran 3 klub tersebut selama 2000 sampai 2018 tidak memiliki perbedaan yang signifikan, yang artinya jumlah pengeluaran yang mereka keluarkan untuk membeli pemain hampir sama."
   ]
  },
  {
   "cell_type": "markdown",
   "metadata": {},
   "source": [
    "# PENGAMBILAN KESIMPULAN"
   ]
  },
  {
   "cell_type": "markdown",
   "metadata": {},
   "source": [
    "Berdasarkan analisa transfer pemain sepakbola yang sudah dilakukan, didapatkan beberapa informasi tentang aktivitas transfer selama 18 tahun terakhir (2000-2018)\n",
    "- Dari total aktivitas transfer 3 liga Eropa ```(England, Spain, Italy```), sebanyak 49,8% merupakan pembelian dari Premier League ```(England)```. Sedangkan sisanya adalah 29,3% dari Serie A ```(Italy)``` dan 20,8% dari La Liga ```(Spain)```. Dapat disimpulkan bahwa setengah dari pembelian pemain dilakukan oleh Premier League\n",
    "- Dari 3 liga```(England, Spain, Italy)```, semua liga lebih banyak melakukan pembelian pemain daripada penjualan pemain, yang artinya semua liga mengalami kerugian\n",
    "- Perbandingan rata-rata harga pemain dari tahun 2000 dan tahun 2018 sudah meningkat naik, dimana rata-rata harga pemain pada era sepakbola modern sangat jauh dibandingkan dengan harga pemain pada era 2000an\n",
    "- Karena harga pemain semakin lama semakin naik, maka jika suatu tim ingin membeli pemain yang berkualitas, tim tersebut harus mengeluarkan uang yang lebih banyak. hal ini dapat dilihat dari grafik rata-rata Transfer Fee setiap season\n",
    "- Pemain termahal yang pernah dibeli oleh setiap liga berasal dari Season 3 tahun terakhir pada data yaitu Paul Pogba (2016-2017) ke Premier League, Philippe Countinho (2017-2018) ke La Liga, dan Cristiano Ronaldo (2018-2019) ke Serie A\n",
    "- Tim terbanyak yang melakukan pembelian pemain berasal dari Premier League ```(England)```. Dari total gabungan liga 15 tim teratas yang paling banyak membeli pemain, 8 tim berasal dari Premier League\n",
    "- Perbedaan rata-rata pengeluaran  antara 3 klub yang paling membeli pemain yang dibagi berdasarkan liga, antara Chelsea, Real Madrid, dan Inter milan tidak memiliki perbedaan rata-rata pengeluaran yang signifikan (berbeda tipis)"
   ]
  }
 ],
 "metadata": {
  "kernelspec": {
   "display_name": "Python 3.7.7 64-bit",
   "language": "python",
   "name": "python3"
  },
  "language_info": {
   "codemirror_mode": {
    "name": "ipython",
    "version": 3
   },
   "file_extension": ".py",
   "mimetype": "text/x-python",
   "name": "python",
   "nbconvert_exporter": "python",
   "pygments_lexer": "ipython3",
   "version": "3.7.7"
  },
  "orig_nbformat": 4,
  "vscode": {
   "interpreter": {
    "hash": "09bb10ed9bd1e6b46874dc40d5e3996bad1f550c9453a3b15056fb0dfe49ba07"
   }
  }
 },
 "nbformat": 4,
 "nbformat_minor": 2
}
